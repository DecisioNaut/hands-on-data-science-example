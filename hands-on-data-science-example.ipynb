{
  "nbformat": 4,
  "nbformat_minor": 0,
  "metadata": {
    "colab": {
      "name": "hands-on-data-science-example.ipynb",
      "version": "0.3.2",
      "provenance": [],
      "include_colab_link": true
    },
    "language_info": {
      "codemirror_mode": {
        "name": "ipython",
        "version": 3
      },
      "file_extension": ".py",
      "mimetype": "text/x-python",
      "name": "python",
      "nbconvert_exporter": "python",
      "pygments_lexer": "ipython3",
      "version": "3.7.3"
    },
    "kernelspec": {
      "display_name": "Python 3",
      "language": "python",
      "name": "python3"
    }
  },
  "cells": [
    {
      "cell_type": "markdown",
      "metadata": {
        "id": "view-in-github",
        "colab_type": "text"
      },
      "source": [
        "<a href=\"https://colab.research.google.com/github/QuantificAid/hands-on-data-science-example/blob/master/hands-on-data-science-example.ipynb\" target=\"_parent\"><img src=\"https://colab.research.google.com/assets/colab-badge.svg\" alt=\"Open In Colab\"/></a>"
      ]
    },
    {
      "cell_type": "markdown",
      "metadata": {
        "id": "77mVOqPOnXJ9",
        "colab_type": "text"
      },
      "source": [
        "[![Google Colab](https://colab.research.google.com/assets/colab-badge.svg)](https://colab.research.google.com/github/QuantificAid/hands-on-data-science-example/blob/master/hands-on-data-science-example.ipynb)"
      ]
    },
    {
      "cell_type": "markdown",
      "metadata": {
        "id": "RyW8mkLxnXJ_",
        "colab_type": "text"
      },
      "source": [
        "# Data Science zum Mitmachen: Wetter, Radfahrer und mehr..."
      ]
    },
    {
      "cell_type": "markdown",
      "metadata": {
        "id": "Si1Yn00hnXKA",
        "colab_type": "text"
      },
      "source": [
        "## Einleitung"
      ]
    },
    {
      "cell_type": "markdown",
      "metadata": {
        "id": "av709nhjnXKA",
        "colab_type": "text"
      },
      "source": [
        "Wie wir in der Bastelstrecke von [diy-iot2ds](https://github.com/birds-on-mars/diy-iot2ds) lernen können, ist es gar nicht sooo schwer und aufwendig, Wetterdaten automatisch zu erfassen. Allerdings ist die Analyse der isolierten Daten etwas ... gähn. Um spannendere Dinge zu tun und zu erkennen, muss man schon ein paar verschiedene Daten zusammenbringen.\n",
        "\n",
        "Und auch das ist machbar! **Einen kleinen Teil des Ganzen muss/darf der geneigte Leser dabei selber machen.**\n",
        "Google bietet eine kostenlose Umgebung dafür an. Falls noch nicht geschehen, jetzt **bitte einfach oben den Button \"open in colab\" anklicken** (und nach Studie der Bedingungen von Google diese ggf. akzeptieren, damit die Kiste läuft). \n",
        "\n",
        "Um dies zu veranschaulichen haben wir uns von Jake van der Plas, einem Astrophysiker, Data Science-Meister und Python-Guru inspirieren lassen. Jake hält nicht nur viele Talks zum Thema und hat hervorragende Bücher wie das [Data Science Handbook](https://jakevdp.github.io/PythonDataScienceHandbook/) geschrieben, das es übrigens komplett open-source und interaktiv durch- und zu bearbeiten gibt. Er schreibt auch seit längerem einen Blog, in dem er auch immer wieder Methoden anschaulich beschreibt.  \n",
        "\n",
        "In 2014 hat er dort die Frage gestellt, ob es einen Aufschwung in der Nutzung von Fahrrädern in Seattle gibt. Hier der [Link zum Blog von dunnemals](https://jakevdp.github.io/blog/2014/06/10/is-seattle-really-seeing-an-uptick-in-cycling/).  \n",
        "\n",
        "**Hier werden öffentlich zugängliche und recht volatile Daten zum (automatisch erfassten) Fahrrad-Verkehr über die Fremont-Brücke in Seatlle mit Wetter- und auch berechneten Daten in Verbindung gebracht, um zu verifizieren, ob es tatsächlich eine Veränderung der Fahrrad-Fahrten im Laufe der Zeit gibt bzw. welchen Einfluss andere Umgebungsdaten haben.** \n",
        "\n",
        "Die Antwort von Jake van der Plas in seinem Blog damals war: ja, es gibt einen Zuwachs an Fahrradverkehr.\n",
        "Jetzt sind wir ein paar Jahre weiter und wir fragen uns daher: ist das immer noch der Fall?  \n",
        "\n",
        "Let's see..."
      ]
    },
    {
      "cell_type": "markdown",
      "metadata": {
        "id": "hAmIcGtynXKB",
        "colab_type": "text"
      },
      "source": [
        "## Verwendete Datenquellen"
      ]
    },
    {
      "cell_type": "markdown",
      "metadata": {
        "id": "_iYEOEn1nXKB",
        "colab_type": "text"
      },
      "source": [
        "Auf den Fahrradwegen der Fremont-Brücke in Seattle werden mit magnetischen Induktionsschleifen automatisch Fahrräder gezählt. Da [Open-Data](https://de.wikipedia.org/wiki/Open_Data) in den USA auch bei öffentlichen Institutionen recht verbreitet ist, sind diese Daten frei zugänglich. Sie werden [auf dem Open-Data-Portal der Stadt Seattle bereitgestellt](https://data.seattle.gov/Transportation/Fremont-Bridge-Hourly-Bicycle-Counts-by-Month-Octo/65db-xm6k). Die hier im Repository hinterlegten Daten sind vom 04. Juni 2019 und reichen zurück bis 2012.  \n",
        "\n",
        "So sieht übrigens die Fremont-Brücke in Seattle aus:\n",
        "\n",
        "![Fremont-Brücke in Seatlle](https://upload.wikimedia.org/wikipedia/commons/5/50/Seattle_%E2%80%94_Fremont_Bridge_%E2%80%94_%282016-06-12%29%2C_01.jpg)  \n",
        "\n",
        "Auch Wetterdaten aus den USA sind frei zugänglich über das [National Center of Environmental Information](://www.ncdc.noaa.gov/cdo-web/search?datasetid=GHCND), wo u.a. die Wetterstation des SeaTac Airport in Seattle ausgewählt werden kann (ID der Wetterstation \"USW00024233\"). Hier haben wir uns die letzten verfügbaren Daten vom 25. Juni 2019 (auch zurück bis 2012) besorgt.\n",
        "\n",
        "Die [Daten liegen bereits in diesem Repository](https://github.com/QuantificAid/hands-on-data-science-example/blob/master/Daten/):"
      ]
    },
    {
      "cell_type": "code",
      "metadata": {
        "id": "kBo1TrNlnXKC",
        "colab_type": "code",
        "colab": {}
      },
      "source": [
        "Pfad_zu_Daten = 'https://raw.githubusercontent.com/QuantificAid/hands-on-data-science-example/master/Daten/'"
      ],
      "execution_count": 0,
      "outputs": []
    },
    {
      "cell_type": "markdown",
      "metadata": {
        "id": "iYL8QG-dnXKF",
        "colab_type": "text"
      },
      "source": [
        "## Vorgehen"
      ]
    },
    {
      "cell_type": "markdown",
      "metadata": {
        "id": "5gwMYgBenXKF",
        "colab_type": "text"
      },
      "source": [
        "Auch hier werden wir die üblichen Schritte einer Data Science-Analyse durchlaufen:\n",
        "- **Laden und erstes Explorieren der Daten** (*Gathering*) verbunden mit einer ersten ganz kurzen ersten Exploration, wie die Daten in der Rohversion aussehen.\n",
        "- **Strukturieren der Daten** (*Preprocessing*) um die Daten in eine gesamthaft weiterverarbeitbare Form zu bringen.\n",
        "- **Bereinigung und weitere Exploration der Daten** *(Cleansing, Exploration)*, um die Daten in die finale Form für die Modellbildung zu bringen. Glücklicherweise sind die Daten recht \"sauber\", was den ansonsten oft sehr mühseligen Teil der Bereinigung sehr kurz macht. Wir werden die Daten aber recht ausgiebig visualisieren.\n",
        "- Last, but not least **Modellierung der Daten** *(Modelling)*. Hier benutzen wir werden wir eine \"einfache\" multi-lineare Regression anwenden, um zu prüfen, welcher Einflussfaktor wie (linear) wirkt und welcher Trend sich am Ende für den zeitlichen Verlauf der Fahrrad-Nutzung ergibt. Wie lineare Regression funktioniert wird im entsprechenden Teil erläutert."
      ]
    },
    {
      "cell_type": "markdown",
      "metadata": {
        "id": "GbdcYQ6FnXKG",
        "colab_type": "text"
      },
      "source": [
        "## Verwendete Programmbibliotheken"
      ]
    },
    {
      "cell_type": "markdown",
      "metadata": {
        "id": "rNqB4x-5nXKH",
        "colab_type": "text"
      },
      "source": [
        "Die Analyse der Daten nehmen wir in der Programmiersprache Python vor, die für sehr vieles geeignet ist, aber auch sehr beliebt für Data Science, Machine Learning und AI ist.\n",
        "\n",
        "Sie ist nicht nur deshalb in diesen Gebieten so beliebt, weil sie relativ leicht zu lernen und sehr vielseitig ist, sondern auch und insbesondere, weil es viele schlaue Geister in Python sehr coole Programm-Bibliotheken geschrieben haben, die open source bereitstehen, deren enthaltene Objekte, Methoden und Funktionen sofort verwendet werden können und die einem viel Arbeit abnehmen.\n",
        "\n",
        "Wir laden uns die folgenden Bibliotheken:\n",
        "- [pandas](https://pandas.pydata.org/) zur effizienten Bearbeitung von Datentabellen\n",
        "- [NumPy](https://www.numpy.org/) zur schnellen numerischen Bearbeitung von Tabellendaten und Matrizen (wird im Hintergrund auch von pandas verwendet)\n",
        "- [altair](https://altair-viz.github.io/) zur grafischen und interaktiven Darstellung von Daten und\n",
        "- [scikit-learn oder auch sklearn](https://scikit-learn.org/stable/), einer elegant programmierten Bibliothek mit vielen Funktionen zum maschinellen Lernen (u.a. der linearen Regression)."
      ]
    },
    {
      "cell_type": "code",
      "metadata": {
        "scrolled": false,
        "id": "6CMgaIwBnXKH",
        "colab_type": "code",
        "colab": {}
      },
      "source": [
        "# Importieren von Programm-Bibliotheken\n",
        "\n",
        "# Programm-Bibliothek zur effizienten Bearbeitung von Datentabellen\n",
        "import pandas as pd\n",
        "\n",
        "# Programm-Bibliothek zur schnellen numerischen \n",
        "# Bearbeitung von Tabellendaten und Matrizen.\n",
        "import numpy as np\n",
        "\n",
        "# Programm-Bibliothek zu grafischen und interaktiven \n",
        "# Darstellung von Daten\n",
        "import altair as alt\n",
        "alt.renderers.enable('notebook')\n",
        "\n",
        "# Programm-Bibliothek u.a. Lineare Regression\n",
        "from sklearn.linear_model import LinearRegression"
      ],
      "execution_count": 0,
      "outputs": []
    },
    {
      "cell_type": "markdown",
      "metadata": {
        "id": "xfDZjhwQnXKJ",
        "colab_type": "text"
      },
      "source": [
        "## Laden und erstes Explorieren der Daten *(Gathering, First Exploration)*"
      ]
    },
    {
      "cell_type": "markdown",
      "metadata": {
        "id": "jdtiWxv2nXKK",
        "colab_type": "text"
      },
      "source": [
        "### Laden und erstes Explorieren der Verkehrsdaten"
      ]
    },
    {
      "cell_type": "markdown",
      "metadata": {
        "id": "N25UjC_knXKK",
        "colab_type": "text"
      },
      "source": [
        ""
      ]
    },
    {
      "cell_type": "code",
      "metadata": {
        "scrolled": false,
        "id": "0bTjtKQmnXKL",
        "colab_type": "code",
        "colab": {}
      },
      "source": [
        "# Laden der 'Verkehrsdaten' \n",
        "# aus Datei'Fremont_Bridge_Hourly_Bicycle_Counts_by_Month_October_2012_to_present.csv' \n",
        "# im Ordner 'Daten'\n",
        "Verkehrsdaten = pd.read_csv(\n",
        "    Pfad_zu_Daten + 'Fremont_Bridge_Hourly_Bicycle_Counts_by_Month_October_2012_to_present.csv')"
      ],
      "execution_count": 0,
      "outputs": []
    },
    {
      "cell_type": "code",
      "metadata": {
        "scrolled": false,
        "id": "e5RiyVWPnXKM",
        "colab_type": "code",
        "colab": {},
        "outputId": "09468c1e-96f7-49f2-a667-d6af70c982b2"
      },
      "source": [
        "# Lesen der obersten Reihe der 'Verkehrsdaten'\n",
        "Verkehrsdaten.head()"
      ],
      "execution_count": 0,
      "outputs": [
        {
          "output_type": "execute_result",
          "data": {
            "text/html": [
              "<div>\n",
              "<style scoped>\n",
              "    .dataframe tbody tr th:only-of-type {\n",
              "        vertical-align: middle;\n",
              "    }\n",
              "\n",
              "    .dataframe tbody tr th {\n",
              "        vertical-align: top;\n",
              "    }\n",
              "\n",
              "    .dataframe thead th {\n",
              "        text-align: right;\n",
              "    }\n",
              "</style>\n",
              "<table border=\"1\" class=\"dataframe\">\n",
              "  <thead>\n",
              "    <tr style=\"text-align: right;\">\n",
              "      <th></th>\n",
              "      <th>Date</th>\n",
              "      <th>Fremont Bridge East Sidewalk</th>\n",
              "      <th>Fremont Bridge West Sidewalk</th>\n",
              "    </tr>\n",
              "  </thead>\n",
              "  <tbody>\n",
              "    <tr>\n",
              "      <th>0</th>\n",
              "      <td>05/31/2019 11:00:00 PM</td>\n",
              "      <td>22.0</td>\n",
              "      <td>35.0</td>\n",
              "    </tr>\n",
              "    <tr>\n",
              "      <th>1</th>\n",
              "      <td>05/31/2019 10:00:00 PM</td>\n",
              "      <td>29.0</td>\n",
              "      <td>52.0</td>\n",
              "    </tr>\n",
              "    <tr>\n",
              "      <th>2</th>\n",
              "      <td>05/31/2019 09:00:00 PM</td>\n",
              "      <td>46.0</td>\n",
              "      <td>57.0</td>\n",
              "    </tr>\n",
              "    <tr>\n",
              "      <th>3</th>\n",
              "      <td>05/31/2019 08:00:00 PM</td>\n",
              "      <td>48.0</td>\n",
              "      <td>92.0</td>\n",
              "    </tr>\n",
              "    <tr>\n",
              "      <th>4</th>\n",
              "      <td>05/31/2019 07:00:00 PM</td>\n",
              "      <td>97.0</td>\n",
              "      <td>151.0</td>\n",
              "    </tr>\n",
              "  </tbody>\n",
              "</table>\n",
              "</div>"
            ],
            "text/plain": [
              "                     Date  Fremont Bridge East Sidewalk  \\\n",
              "0  05/31/2019 11:00:00 PM                          22.0   \n",
              "1  05/31/2019 10:00:00 PM                          29.0   \n",
              "2  05/31/2019 09:00:00 PM                          46.0   \n",
              "3  05/31/2019 08:00:00 PM                          48.0   \n",
              "4  05/31/2019 07:00:00 PM                          97.0   \n",
              "\n",
              "   Fremont Bridge West Sidewalk  \n",
              "0                          35.0  \n",
              "1                          52.0  \n",
              "2                          57.0  \n",
              "3                          92.0  \n",
              "4                         151.0  "
            ]
          },
          "metadata": {
            "tags": []
          },
          "execution_count": 12
        }
      ]
    },
    {
      "cell_type": "code",
      "metadata": {
        "scrolled": false,
        "id": "KvPWMNajnXKS",
        "colab_type": "code",
        "colab": {}
      },
      "source": [
        "# Lesen der untersten Reihen der 'Verkehrsdaten'\n",
        "Verkehrsdaten.tail()"
      ],
      "execution_count": 0,
      "outputs": []
    },
    {
      "cell_type": "code",
      "metadata": {
        "scrolled": false,
        "id": "kDYXrhHhnXKU",
        "colab_type": "code",
        "colab": {}
      },
      "source": [
        "# Abstrakte Information über die 'Verkehrsdaten'\n",
        "Verkehrsdaten.info()"
      ],
      "execution_count": 0,
      "outputs": []
    },
    {
      "cell_type": "code",
      "metadata": {
        "scrolled": false,
        "id": "hklvb3uAnXKW",
        "colab_type": "code",
        "colab": {}
      },
      "source": [
        "# Grundlegende Statistik der 'Verkehrsdaten'\n",
        "Verkehrsdaten.describe(include='all').T"
      ],
      "execution_count": 0,
      "outputs": []
    },
    {
      "cell_type": "markdown",
      "metadata": {
        "id": "fbYT_ElinXKY",
        "colab_type": "text"
      },
      "source": [
        "### *Do-It-Yourself: Laden und erstes Explorieren der Wetterdaten*"
      ]
    },
    {
      "cell_type": "code",
      "metadata": {
        "scrolled": false,
        "id": "eQOz_mbNnXKY",
        "colab_type": "code",
        "colab": {}
      },
      "source": [
        "# Lesen der 'Wetterdaten' \n",
        "# aus Datei '178440.csv' \n",
        "# im Ordner 'Daten' \n",
        "Wetterdaten = pd.read_csv('Daten/1786440.csv')"
      ],
      "execution_count": 0,
      "outputs": []
    },
    {
      "cell_type": "code",
      "metadata": {
        "scrolled": false,
        "id": "McvmrxG3nXKa",
        "colab_type": "code",
        "colab": {}
      },
      "source": [
        "# Lesen der obersten Reihe der 'Wetterdaten'\n",
        "Wetterdaten.head()"
      ],
      "execution_count": 0,
      "outputs": []
    },
    {
      "cell_type": "code",
      "metadata": {
        "scrolled": false,
        "id": "beeKnLnWnXKc",
        "colab_type": "code",
        "colab": {}
      },
      "source": [
        "# Lesen der untersten Reihe der 'Wetterdaten'\n",
        "Wetterdaten.tail()"
      ],
      "execution_count": 0,
      "outputs": []
    },
    {
      "cell_type": "code",
      "metadata": {
        "scrolled": false,
        "id": "dnt9G9M6nXKe",
        "colab_type": "code",
        "colab": {}
      },
      "source": [
        "# Abstrakte Information über die 'Wetterdaten'\n",
        "Wetterdaten.info()"
      ],
      "execution_count": 0,
      "outputs": []
    },
    {
      "cell_type": "code",
      "metadata": {
        "scrolled": false,
        "id": "8O2aPldvnXKg",
        "colab_type": "code",
        "colab": {}
      },
      "source": [
        "# Grundlegende Statistik der 'Wetterdaten'\n",
        "Wetterdaten.describe(include='all').T"
      ],
      "execution_count": 0,
      "outputs": []
    },
    {
      "cell_type": "markdown",
      "metadata": {
        "id": "spPH2tc2nXKi",
        "colab_type": "text"
      },
      "source": [
        "## Strukturieren der Daten *(Preprocessing)*"
      ]
    },
    {
      "cell_type": "code",
      "metadata": {
        "scrolled": false,
        "id": "UKuBhk75nXKj",
        "colab_type": "code",
        "colab": {}
      },
      "source": [
        "# Anlegen einer neuen Datenstruktur 'Daten'\n",
        "Daten = pd.DataFrame()"
      ],
      "execution_count": 0,
      "outputs": []
    },
    {
      "cell_type": "markdown",
      "metadata": {
        "id": "KUYTNhDvnXKl",
        "colab_type": "text"
      },
      "source": [
        "### Formattieren und Aggregieren und Hinzufügen der Verkehrsdaten"
      ]
    },
    {
      "cell_type": "markdown",
      "metadata": {
        "id": "sPr6wCRxnXKm",
        "colab_type": "text"
      },
      "source": [
        "Zunächst formatieren wir die Spalte 'Date' von 'verkehrsdaten' in ein Format um, dass von 'pandas' als Zeiten interpretiert werden kann."
      ]
    },
    {
      "cell_type": "code",
      "metadata": {
        "scrolled": false,
        "id": "vcXxUTGrnXKn",
        "colab_type": "code",
        "colab": {}
      },
      "source": [
        "# Konvertieren der Spalte 'Date' in 'Verkehrsdaten'\n",
        "# in ein \"echtes\" Datumsformat\n",
        "Verkehrsdaten['Date'] = pd.to_datetime(Verkehrsdaten['Date'])"
      ],
      "execution_count": 0,
      "outputs": []
    },
    {
      "cell_type": "markdown",
      "metadata": {
        "id": "HtX1JPs_nXKq",
        "colab_type": "text"
      },
      "source": [
        "Dann setzen wir den Index der Tabelle 'verkehrsdaten' auf 'date'"
      ]
    },
    {
      "cell_type": "code",
      "metadata": {
        "scrolled": false,
        "id": "Y9ytUnpQnXKq",
        "colab_type": "code",
        "colab": {}
      },
      "source": [
        "# Ersetzen der Index-Spalte mit der Spalte 'Date' aus 'Verkehrsdaten'\n",
        "Verkehrsdaten = Verkehrsdaten.set_index('Date')"
      ],
      "execution_count": 0,
      "outputs": []
    },
    {
      "cell_type": "markdown",
      "metadata": {
        "id": "y78uDQnMnXKv",
        "colab_type": "text"
      },
      "source": [
        "Um Vergleichbarkeit zu den Wetterdaten zu erreichen, aggregieren wir "
      ]
    },
    {
      "cell_type": "code",
      "metadata": {
        "scrolled": false,
        "id": "MiaVcskQnXKw",
        "colab_type": "code",
        "colab": {}
      },
      "source": [
        "# Aggregieren und Ersetzen der stündlichen 'Verkehrsdaten' \n",
        "# durch tägliche 'Verkehrsdaten'\n",
        "Verkehrsdaten = Verkehrsdaten.resample('d').sum()"
      ],
      "execution_count": 0,
      "outputs": []
    },
    {
      "cell_type": "code",
      "metadata": {
        "scrolled": false,
        "id": "sxtcwYX8nXKz",
        "colab_type": "code",
        "colab": {}
      },
      "source": [
        "# Lesen von Beispielreihen der 'Verkehrsdaten'\n",
        "Verkehrsdaten.sample(5)"
      ],
      "execution_count": 0,
      "outputs": []
    },
    {
      "cell_type": "code",
      "metadata": {
        "scrolled": false,
        "id": "aFhleCl8nXK1",
        "colab_type": "code",
        "colab": {}
      },
      "source": [
        "# Abstrakte Information über 'Verkehrsdaten'\n",
        "Verkehrsdaten.info()"
      ],
      "execution_count": 0,
      "outputs": []
    },
    {
      "cell_type": "code",
      "metadata": {
        "scrolled": false,
        "id": "WIysB2zGnXK3",
        "colab_type": "code",
        "colab": {}
      },
      "source": [
        "# Grundlegende Statistik der 'Verkehrsdaten'\n",
        "Verkehrsdaten.describe(include='all').T"
      ],
      "execution_count": 0,
      "outputs": []
    },
    {
      "cell_type": "code",
      "metadata": {
        "scrolled": false,
        "id": "xMj-UhOBnXK5",
        "colab_type": "code",
        "colab": {}
      },
      "source": [
        "# Übertragen der Summe der Spalten aus den 'Verkehrsdaten'\n",
        "# in eine (neue) Spalte 'Fahrten' der 'Daten'\n",
        "Daten['Fahrten'] = Verkehrsdaten['Fremont Bridge East Sidewalk'] + Verkehrsdaten['Fremont Bridge West Sidewalk']"
      ],
      "execution_count": 0,
      "outputs": []
    },
    {
      "cell_type": "code",
      "metadata": {
        "scrolled": false,
        "id": "OH7vidPvnXK7",
        "colab_type": "code",
        "colab": {}
      },
      "source": [
        "# Benennung des Index der 'Daten' mit 'Datum'\n",
        "Daten.index = pd.DatetimeIndex(data=Verkehrsdaten.index, name='Datum')"
      ],
      "execution_count": 0,
      "outputs": []
    },
    {
      "cell_type": "code",
      "metadata": {
        "scrolled": false,
        "id": "OM296d05nXK9",
        "colab_type": "code",
        "colab": {}
      },
      "source": [
        "# Lesen von Beispielreihen aus den 'Daten'\n",
        "Daten.sample(5)"
      ],
      "execution_count": 0,
      "outputs": []
    },
    {
      "cell_type": "markdown",
      "metadata": {
        "id": "2S1MKPcanXK_",
        "colab_type": "text"
      },
      "source": [
        "### Ermitteln und Hinzufügen berechneter Daten (Tageslänge und Wochentag)"
      ]
    },
    {
      "cell_type": "code",
      "metadata": {
        "scrolled": false,
        "id": "0-bnd0QInXK_",
        "colab_type": "code",
        "colab": {}
      },
      "source": [
        "# Anlegen einer neuen Datenstruktur 'Berechnete_Daten'\n",
        "# mit Übernahme der Index-Struktur von 'Daten'\n",
        "Berechnete_Daten = pd.DataFrame(index=Daten.index)"
      ],
      "execution_count": 0,
      "outputs": []
    },
    {
      "cell_type": "code",
      "metadata": {
        "scrolled": false,
        "id": "lIb6PosqnXLB",
        "colab_type": "code",
        "colab": {}
      },
      "source": [
        "# Neue Spalte 'Tag' in 'Berechnete_Daten'\n",
        "# aus den Zahlenwerten des 'index' (der das Datum enthalt)\n",
        "Berechnete_Daten['Tag'] = pd.to_numeric(Berechnete_Daten.index)"
      ],
      "execution_count": 0,
      "outputs": []
    },
    {
      "cell_type": "code",
      "metadata": {
        "scrolled": false,
        "id": "VH1WpNvUnXLE",
        "colab_type": "code",
        "colab": {}
      },
      "source": [
        "# Lesen von Beispielsreihen aus 'Berechnete Daten'\n",
        "Berechnete_Daten['Tag'].sample(5)"
      ],
      "execution_count": 0,
      "outputs": []
    },
    {
      "cell_type": "code",
      "metadata": {
        "scrolled": false,
        "id": "de6TPIX1nXLG",
        "colab_type": "code",
        "colab": {}
      },
      "source": [
        "# Umwandeln der Spalte 'Tag' in ganzzahlige Werte\n",
        "# die einzelnen Tagen entsprechen\n",
        "Tageslaenge_in_Nanosekunden = 24*60*60*1_000_000_000\n",
        "Berechnete_Daten['Tag'] = (Berechnete_Daten['Tag'] - Berechnete_Daten['Tag'].min()) \\\n",
        "                        / Tageslaenge_in_Nanosekunden"
      ],
      "execution_count": 0,
      "outputs": []
    },
    {
      "cell_type": "code",
      "metadata": {
        "scrolled": false,
        "id": "uIGIPv90nXLI",
        "colab_type": "code",
        "colab": {}
      },
      "source": [
        "# Lesen der ersten Reihen von 'Berechnete Daten'\n",
        "Berechnete_Daten.head(5)"
      ],
      "execution_count": 0,
      "outputs": []
    },
    {
      "cell_type": "code",
      "metadata": {
        "scrolled": false,
        "id": "kwX-dfTbnXLK",
        "colab_type": "code",
        "colab": {}
      },
      "source": [
        "# Formel zur Berechnung der Tageslänge in Abhängigkeit des\n",
        "# Datums und des Laengengrades \n",
        "# (voreingestellt ist der Längengrad von Seattle)\n",
        "\n",
        "def Berechne_Tageslaenge(Datum, Laengengrad=47.61):\n",
        "    \n",
        "    # Neigung der Erdachse in Grad\n",
        "    Neigung_erdachse = 23.44\n",
        "    \n",
        "    # Wintersonnenwende\n",
        "    Wintersonnenwende = pd.datetime(2000, 12, 21)\n",
        "    \n",
        "    # Tage seit Wintersonnenwende (WSW)\n",
        "    Zeit_seit_WSW = Datum - Wintersonnenwende\n",
        "    Tage_seit_WSW = Zeit_seit_WSW.total_seconds() / (24. * 60. * 60.)\n",
        "    Tage_seit_WSW = Tage_seit_WSW % 365.25\n",
        "    \n",
        "    m = 1. - \\\n",
        "        np.tan(np.radians(Laengengrad)) * \\\n",
        "        np.tan(\n",
        "            np.radians(Neigung_erdachse) * \n",
        "            np.cos(Tage_seit_WSW * np.pi / 182.625) \n",
        "    )\n",
        "    \n",
        "    m = max(0, min(m, 2))\n",
        "    \n",
        "    Tageslaenge = 24. * np.degrees(np.arccos(1 - m)) / 180.\n",
        "    \n",
        "    return Tageslaenge"
      ],
      "execution_count": 0,
      "outputs": []
    },
    {
      "cell_type": "code",
      "metadata": {
        "scrolled": false,
        "id": "VFUGMCtXnXLL",
        "colab_type": "code",
        "colab": {}
      },
      "source": [
        "# Aufbau einer Liste von Tageslaengen und \n",
        "# Übernahme in eine neue Spalte 'Tageslaenge'\n",
        "# in 'Berechnete_Daten'\n",
        "Tageslaengen = list(map(Berechne_Tageslaenge, Berechnete_Daten.index))\n",
        "Berechnete_Daten['Tageslaenge'] = Tageslaengen"
      ],
      "execution_count": 0,
      "outputs": []
    },
    {
      "cell_type": "code",
      "metadata": {
        "scrolled": false,
        "id": "ytWH-g3GnXLN",
        "colab_type": "code",
        "colab": {}
      },
      "source": [
        "# Lesen von Beispielreihen aus 'Berechnete Daten'\n",
        "Berechnete_Daten.sample(5)"
      ],
      "execution_count": 0,
      "outputs": []
    },
    {
      "cell_type": "code",
      "metadata": {
        "scrolled": false,
        "id": "na8XHrqUnXLP",
        "colab_type": "code",
        "colab": {}
      },
      "source": [
        "# Berechnung, ob ein Tag ein Werktag \n",
        "# ist (1) oder nicht (0) und\n",
        "# Übernahme in eine neue Spalte 'ist_Werktag' von 'Berechnete_Daten'\n",
        "Berechnete_Daten['ist_Werktag'] = 1 - Berechnete_Daten.index.dayofweek // 5"
      ],
      "execution_count": 0,
      "outputs": []
    },
    {
      "cell_type": "code",
      "metadata": {
        "scrolled": false,
        "id": "HcbeZFQSnXLR",
        "colab_type": "code",
        "colab": {}
      },
      "source": [
        "# Lesen von Beispielreihen aus 'Berechnete Daten'\n",
        "Berechnete_Daten.sample(5)"
      ],
      "execution_count": 0,
      "outputs": []
    },
    {
      "cell_type": "code",
      "metadata": {
        "scrolled": false,
        "id": "F42KrR-SnXLT",
        "colab_type": "code",
        "colab": {}
      },
      "source": [
        "# Übernahme von 'Tageslaenge' und 'ist_Werktag'\n",
        "# aus 'Berechnete_Daten' in die 'Daten'\n",
        "Daten[['Tag', 'Tageslaenge', 'ist_Werktag']] = Berechnete_Daten[['Tag', 'Tageslaenge', 'ist_Werktag']]"
      ],
      "execution_count": 0,
      "outputs": []
    },
    {
      "cell_type": "code",
      "metadata": {
        "scrolled": false,
        "id": "uO_kHBbjnXLV",
        "colab_type": "code",
        "colab": {}
      },
      "source": [
        "# Lesen von Beispielreihen aus 'Daten'\n",
        "Daten.sample(5)"
      ],
      "execution_count": 0,
      "outputs": []
    },
    {
      "cell_type": "markdown",
      "metadata": {
        "id": "McuODCe1nXLX",
        "colab_type": "text"
      },
      "source": [
        "### *Do-It-Yourself: Formatieren und Hinzufügen ausgewählter Wetterdaten*"
      ]
    },
    {
      "cell_type": "code",
      "metadata": {
        "scrolled": false,
        "id": "PUIHTLEknXLX",
        "colab_type": "code",
        "colab": {}
      },
      "source": [
        "# Konvertieren der Spalte 'DATE' in 'Wetterdaten'\n",
        "# in ein \"echtes\" Datumsformat\n",
        "# (vgl. 'Formattieren und Aggregieren und Hinzufügen der Verkehrsdaten')\n",
        "Wetterdaten['DATE'] = pd.to_datetime(Wetterdaten['DATE'])"
      ],
      "execution_count": 0,
      "outputs": []
    },
    {
      "cell_type": "code",
      "metadata": {
        "scrolled": false,
        "id": "kdc525ZrnXLZ",
        "colab_type": "code",
        "colab": {}
      },
      "source": [
        "# Ersetzen der Index-Spalte mit der Spalte 'DATE' aus 'Wetterdaten'\n",
        "# (vgl. 'Formattieren und Aggregieren und Hinzufügen der Verkehrsdaten')\n",
        "Wetterdaten = Wetterdaten.set_index('DATE')"
      ],
      "execution_count": 0,
      "outputs": []
    },
    {
      "cell_type": "code",
      "metadata": {
        "scrolled": false,
        "id": "6ot-EkY3nXLa",
        "colab_type": "code",
        "colab": {}
      },
      "source": [
        "# Abstrakte Information über 'Wetterdaten'\n",
        "# (vgl. 'Formattieren und Aggregieren und Hinzufügen der Verkehrsdaten')\n",
        "Wetterdaten.info()"
      ],
      "execution_count": 0,
      "outputs": []
    },
    {
      "cell_type": "code",
      "metadata": {
        "scrolled": false,
        "id": "JLAuGbh7nXLb",
        "colab_type": "code",
        "colab": {}
      },
      "source": [
        "# Grundlegende Statistik der 'Wetterdaten'\n",
        "# (vgl. 'Formattieren und Aggregieren und Hinzufügen der Verkehrsdaten')\n",
        "Wetterdaten.describe(include='all').T"
      ],
      "execution_count": 0,
      "outputs": []
    },
    {
      "cell_type": "code",
      "metadata": {
        "scrolled": false,
        "id": "pFr28RR9nXLf",
        "colab_type": "code",
        "colab": {}
      },
      "source": [
        "# Übernahme der Spalten 'TAVG' (average temperature = durchschnittliche Temperatur)\n",
        "# und 'PRCP' (precipitation = Niederschlag) in \n",
        "# neue Spalten von 'Daten' 'Temperatur' und 'Niederschlag'\n",
        "# (vgl. 'Formattieren und Aggregieren und Hinzufügen der Verkehrsdaten')\n",
        "Daten['Temperatur'] = Wetterdaten['TAVG']\n",
        "Daten['Niederschlag'] = Wetterdaten['PRCP']"
      ],
      "execution_count": 0,
      "outputs": []
    },
    {
      "cell_type": "code",
      "metadata": {
        "scrolled": false,
        "id": "kAz_b_0vnXLg",
        "colab_type": "code",
        "colab": {}
      },
      "source": [
        "# Lesen von Beispielreihen aus 'Daten'\n",
        "# (vgl. 'Formattieren und Aggregieren und Hinzufügen der Verkehrsdaten')\n",
        "Daten.sample(5)"
      ],
      "execution_count": 0,
      "outputs": []
    },
    {
      "cell_type": "markdown",
      "metadata": {
        "id": "IcoAiLWfnXLk",
        "colab_type": "text"
      },
      "source": [
        "## Bereinigung und weitere Exploration der Daten *(Cleansing, Exploration)*"
      ]
    },
    {
      "cell_type": "code",
      "metadata": {
        "scrolled": false,
        "id": "K-Kz74ZJnXLk",
        "colab_type": "code",
        "colab": {}
      },
      "source": [
        "# Kopieren von 'Daten' in eine\n",
        "# neue Datentabelle 'DatenQuelle'\n",
        "# um die Daten vor weiterer Veränderung zu schützen\n",
        "DatenQuelle = Daten.copy()\n",
        "DatenQuelle.sample()"
      ],
      "execution_count": 0,
      "outputs": []
    },
    {
      "cell_type": "code",
      "metadata": {
        "scrolled": false,
        "id": "k_YLL7AenXLm",
        "colab_type": "code",
        "colab": {}
      },
      "source": [
        "# Neue Spalte 'Datum' aus dem \n",
        "# Index von DatenQuelle (und\n",
        "# Erzeugen eines neuen, generischen Indexes)\n",
        "DatenQuelle.reset_index(drop=False, inplace=True)"
      ],
      "execution_count": 0,
      "outputs": []
    },
    {
      "cell_type": "code",
      "metadata": {
        "scrolled": false,
        "id": "TsqDJFsOnXLp",
        "colab_type": "code",
        "colab": {}
      },
      "source": [
        "# Lesen von Beispielreihen von 'DatenQuelle'\n",
        "DatenQuelle.sample(5)"
      ],
      "execution_count": 0,
      "outputs": []
    },
    {
      "cell_type": "code",
      "metadata": {
        "scrolled": false,
        "id": "0MikBTe3nXLq",
        "colab_type": "code",
        "colab": {}
      },
      "source": [
        "# Reorganisation der Spaltenreihenfolge\n",
        "DatenQuelle = DatenQuelle[['Datum', 'Tag', 'Fahrten', 'Tageslaenge', 'ist_Werktag', 'Temperatur', 'Niederschlag']]"
      ],
      "execution_count": 0,
      "outputs": []
    },
    {
      "cell_type": "code",
      "metadata": {
        "scrolled": false,
        "id": "cvTmEHrEnXLr",
        "colab_type": "code",
        "colab": {}
      },
      "source": [
        "# Grundlegende Statistik von 'DatenQuelle'\n",
        "DatenQuelle.describe(include='all').T"
      ],
      "execution_count": 0,
      "outputs": []
    },
    {
      "cell_type": "code",
      "metadata": {
        "scrolled": false,
        "id": "UvB5ykkMnXLt",
        "colab_type": "code",
        "colab": {}
      },
      "source": [
        "# Löschen aller Reihen die \n",
        "# keine Werte in einer oder mehreren Spalten enthalten\n",
        "DatenQuelle.dropna(inplace=True)"
      ],
      "execution_count": 0,
      "outputs": []
    },
    {
      "cell_type": "code",
      "metadata": {
        "scrolled": false,
        "id": "YVgMpcQVnXLu",
        "colab_type": "code",
        "colab": {}
      },
      "source": [
        "# Grundlegende Statistik von 'DatenQuelle'\n",
        "DatenQuelle.describe(include='all').T"
      ],
      "execution_count": 0,
      "outputs": []
    },
    {
      "cell_type": "code",
      "metadata": {
        "scrolled": false,
        "id": "FRGMsglhnXLw",
        "colab_type": "code",
        "colab": {}
      },
      "source": [
        "# Funktion zur Erzeugung\n",
        "# einer Grafik für eine Variable\n",
        "# im zeitlichen Verlauf\n",
        "def Grafik_Verlauf(Abhaengige_Variable='Fahrten', \n",
        "                   DatenQuelle=DatenQuelle, \n",
        "                   # Variablen für die optionale \n",
        "                   # weitere Variation der Grafiken\n",
        "                   # (wird später benutzt)\n",
        "                   Glaettungsfenster=None, \n",
        "                   Auswahlfilter=None):\n",
        "    \n",
        "    if Glaettungsfenster:\n",
        "        \n",
        "        Grafik_Verlauf = alt.Chart(\n",
        "            data=DatenQuelle,\n",
        "            width=600, height=300\n",
        "        ).mark_line(\n",
        "            color='orange', size=2\n",
        "        ).transform_window(\n",
        "            Gelaettete_Variable='mean('+ Abhaengige_Variable + ')',\n",
        "            frame=[0, Glaettungsfenster]\n",
        "        ).encode(\n",
        "            x=alt.X('Datum:T',\n",
        "                    axis=alt.Axis(title=None)),\n",
        "            y=alt.Y('Gelaettete_Variable:Q',\n",
        "                    axis=alt.Axis(title=None)\n",
        "                   )\n",
        "        ).properties(\n",
        "            title='Zeitlicher Verlauf von ' + Abhaengige_Variable + \\\n",
        "            ' (inkl. ' + str(Glaettungsfenster) + '-Tage-Glaettung)'\n",
        "        )\n",
        "        \n",
        "    else:\n",
        "        \n",
        "        Grafik_Verlauf = alt.Chart(\n",
        "            data=DatenQuelle,\n",
        "            width=600, height=300\n",
        "        ).mark_point(\n",
        "            size=2\n",
        "        ).encode(\n",
        "            x=alt.X('Datum',\n",
        "                    axis=alt.Axis(title=None)),\n",
        "            y=alt.Y(Abhaengige_Variable,\n",
        "                    axis=alt.Axis(title=None)),\n",
        "            tooltip=list(DatenQuelle.columns)\n",
        "        ).properties(\n",
        "            title='Zeitlicher Verlauf von ' + Abhaengige_Variable\n",
        "        )\n",
        "        \n",
        "        if Auswahlfilter:\n",
        "            \n",
        "            Grafik_Verlauf = Grafik_Verlauf.encode(\n",
        "                color=alt.condition(Auswahlfilter,\n",
        "                                    alt.ColorValue('#1f77b4'), \n",
        "                                    alt.ColorValue('lightgrey'))\n",
        "            ).add_selection(Auswahlfilter)\n",
        "            \n",
        "        Trendvariable = 'Trend_' + Abhaengige_Variable + '_iAv_Tag'\n",
        "        \n",
        "        if Trendvariable in DatenQuelle.columns:\n",
        "            \n",
        "            Grafik_Trend = alt.Chart(\n",
        "                data=DatenQuelle\n",
        "            ).mark_line(\n",
        "                color='red', size=2\n",
        "            ).encode(\n",
        "                x=alt.X('Datum'),\n",
        "                y=alt.X(Trendvariable)\n",
        "            )\n",
        "            \n",
        "            Grafik_Verlauf = Grafik_Verlauf + Grafik_Trend\n",
        "        \n",
        "    return Grafik_Verlauf"
      ],
      "execution_count": 0,
      "outputs": []
    },
    {
      "cell_type": "code",
      "metadata": {
        "scrolled": false,
        "id": "vegEtxhDnXLx",
        "colab_type": "code",
        "colab": {}
      },
      "source": [
        "Grafik_Verlauf()"
      ],
      "execution_count": 0,
      "outputs": []
    },
    {
      "cell_type": "code",
      "metadata": {
        "scrolled": false,
        "id": "w_K3Lxe0nXLz",
        "colab_type": "code",
        "colab": {}
      },
      "source": [
        "Grafik_Verlauf(Glaettungsfenster=7)"
      ],
      "execution_count": 0,
      "outputs": []
    },
    {
      "cell_type": "code",
      "metadata": {
        "scrolled": false,
        "id": "TWtEq4eEnXL2",
        "colab_type": "code",
        "colab": {}
      },
      "source": [
        "Grafik_Verlauf(Glaettungsfenster=7) + Grafik_Verlauf()"
      ],
      "execution_count": 0,
      "outputs": []
    },
    {
      "cell_type": "code",
      "metadata": {
        "scrolled": false,
        "id": "s9lqbJ9HnXL3",
        "colab_type": "code",
        "colab": {}
      },
      "source": [
        "def Grafik_Streuung(Unabhaengige_Variable, \n",
        "                    Abhaengige_Variable='Fahrten',\n",
        "                    DatenQuelle=DatenQuelle,\n",
        "                    Auswahlfilter=None):\n",
        "    \n",
        "    Grafik_Streuung = alt.Chart(\n",
        "        data=DatenQuelle,\n",
        "        width=263, height=263\n",
        "    ).mark_point(\n",
        "        size=1\n",
        "    ).encode(\n",
        "        x=alt.X(Unabhaengige_Variable,\n",
        "                scale=alt.Scale(zero=False)),\n",
        "        y=alt.Y(Abhaengige_Variable,\n",
        "                scale=alt.Scale(zero=False)),\n",
        "        tooltip=list(DatenQuelle.columns)\n",
        "    )\n",
        "    \n",
        "    if Auswahlfilter:\n",
        "        \n",
        "        Grafik_Streuung = Grafik_Streuung.encode(\n",
        "            color=alt.condition(Auswahlfilter,\n",
        "                                alt.ColorValue('#1f77b4'), alt.ColorValue('lightgrey'))\n",
        "        ).add_selection(Auswahlfilter)\n",
        "        \n",
        "    Trendvariable = 'Trend_' + Abhaengige_Variable + '_iAv_' + Unabhaengige_Variable\n",
        "    \n",
        "    if Trendvariable in DatenQuelle.columns:\n",
        "        \n",
        "        Grafik_Trend = alt.Chart(\n",
        "            data=DatenQuelle\n",
        "        ).mark_line(\n",
        "            color='red', size=2\n",
        "        ).encode(\n",
        "            x=alt.X(Unabhaengige_Variable),\n",
        "            y=alt.Y(Trendvariable,\n",
        "                    axis=alt.Axis(title=Abhaengige_Variable + ' (mit Trendlinie)'))\n",
        "        )\n",
        "        \n",
        "        Grafik_Streuung = Grafik_Streuung + Grafik_Trend\n",
        "    \n",
        "    return Grafik_Streuung"
      ],
      "execution_count": 0,
      "outputs": []
    },
    {
      "cell_type": "code",
      "metadata": {
        "scrolled": false,
        "id": "ZdMy7wjrnXL4",
        "colab_type": "code",
        "colab": {}
      },
      "source": [
        "Grafik_Streuung('Tageslaenge')"
      ],
      "execution_count": 0,
      "outputs": []
    },
    {
      "cell_type": "code",
      "metadata": {
        "scrolled": false,
        "id": "tboLhl3ynXL5",
        "colab_type": "code",
        "colab": {}
      },
      "source": [
        "def Grafik_Uebersicht(Abhaengige_Variable='Fahrten',\n",
        "                      DatenQuelle=DatenQuelle):\n",
        "    \n",
        "    Auswahlfilter = alt.selection(type='interval', resolve='global')\n",
        "    \n",
        "    Oben = Grafik_Verlauf(Abhaengige_Variable=Abhaengige_Variable, \n",
        "                          DatenQuelle=DatenQuelle, \n",
        "                          Glaettungsfenster=7) \\\n",
        "         + Grafik_Verlauf(Abhaengige_Variable=Abhaengige_Variable,\n",
        "                          DatenQuelle=DatenQuelle,\n",
        "                          Auswahlfilter=Auswahlfilter)\n",
        "    \n",
        "    Links = Grafik_Streuung('Tageslaenge',\n",
        "                            Abhaengige_Variable=Abhaengige_Variable, \n",
        "                            DatenQuelle=DatenQuelle,                            \n",
        "                            Auswahlfilter=Auswahlfilter) \\\n",
        "          & Grafik_Streuung('ist_Werktag',\n",
        "                            Abhaengige_Variable=Abhaengige_Variable, \n",
        "                            DatenQuelle=DatenQuelle,\n",
        "                            Auswahlfilter=Auswahlfilter)\n",
        "    \n",
        "    Rechts = Grafik_Streuung('Temperatur',\n",
        "                            Abhaengige_Variable=Abhaengige_Variable, \n",
        "                            DatenQuelle=DatenQuelle,\n",
        "                            Auswahlfilter=Auswahlfilter) & \\\n",
        "             Grafik_Streuung('Niederschlag',\n",
        "                            Abhaengige_Variable=Abhaengige_Variable, \n",
        "                            DatenQuelle=DatenQuelle,\n",
        "                            Auswahlfilter=Auswahlfilter)\n",
        "    \n",
        "    Grafik_Uebersicht = Oben & (Links | Rechts)\n",
        "    \n",
        "    return Grafik_Uebersicht"
      ],
      "execution_count": 0,
      "outputs": []
    },
    {
      "cell_type": "code",
      "metadata": {
        "scrolled": false,
        "id": "i18-7-HrnXL7",
        "colab_type": "code",
        "colab": {}
      },
      "source": [
        "Grafik_Uebersicht()    "
      ],
      "execution_count": 0,
      "outputs": []
    },
    {
      "cell_type": "markdown",
      "metadata": {
        "id": "K_H-2JDvnXL8",
        "colab_type": "text"
      },
      "source": [
        "## Modellierung der Daten *(Modelling)*"
      ]
    },
    {
      "cell_type": "markdown",
      "metadata": {
        "id": "dryxN9QpnXL8",
        "colab_type": "text"
      },
      "source": [
        "### Lineare Regression - eine kurze Einführung"
      ]
    },
    {
      "cell_type": "code",
      "metadata": {
        "scrolled": false,
        "id": "DbNvGWLInXL9",
        "colab_type": "code",
        "colab": {}
      },
      "source": [
        ""
      ],
      "execution_count": 0,
      "outputs": []
    },
    {
      "cell_type": "code",
      "metadata": {
        "id": "wKhC5pipnXL_",
        "colab_type": "code",
        "colab": {}
      },
      "source": [
        "\n",
        "<a href=\"https://www.youtube.com/watch?v=nk2CQITm_eo\" target=\"_blank\"><img src=\"http://img.youtube.com/vi/nk2CQITm_eo/0.jpg\" \n",
        "alt=\"IMAGE ALT TEXT HERE\" width=\"600\" height=\"400\" border=\"0\" /></a>"
      ],
      "execution_count": 0,
      "outputs": []
    },
    {
      "cell_type": "code",
      "metadata": {
        "scrolled": false,
        "id": "MF9U2DnpnXMB",
        "colab_type": "code",
        "colab": {}
      },
      "source": [
        "def LR_Modell_und_Daten(Liste_Unabhaengige_Regressionsvariablen,\n",
        "                        Abhaengige_Regressionsvariable='Fahrten',\n",
        "                        DatenQuelle=DatenQuelle):\n",
        "    \n",
        "    Daten_LR_Modell = DatenQuelle.copy()\n",
        "    \n",
        "    Daten_Unabhaengige_Regressionsvariablen = Daten_LR_Modell[Liste_Unabhaengige_Regressionsvariablen]\n",
        "    Daten_Abhaengige_Regressionsvariable = Daten_LR_Modell[Abhaengige_Regressionsvariable]\n",
        "    \n",
        "    LR_Modell = LinearRegression(\n",
        "    ).fit(Daten_Unabhaengige_Regressionsvariablen, \n",
        "          Daten_Abhaengige_Regressionsvariable)\n",
        "    \n",
        "    Daten_LR_Modell['Trend'] = LR_Modell.predict(Daten_Unabhaengige_Regressionsvariablen)\n",
        "    \n",
        "    Daten_LR_Modell[Abhaengige_Regressionsvariable+'_trendbereinigt']\\\n",
        "    = Daten_LR_Modell[Abhaengige_Regressionsvariable] \\\n",
        "    - Daten_LR_Modell['Trend'] \\\n",
        "    + Daten_LR_Modell['Trend'].mean()\n",
        "    \n",
        "    for Unabhaengige_Ceteris_Paribus_Regressionsvariable \\\n",
        "    in Liste_Unabhaengige_Regressionsvariablen:\n",
        "        \n",
        "        Ceteris_Paribus_Regressionsdatensatz = pd.DataFrame(index=Daten_LR_Modell.index)\n",
        "        \n",
        "        for Unabhaengige_Regressionsvariable in Liste_Unabhaengige_Regressionsvariablen:\n",
        "            \n",
        "            if Unabhaengige_Regressionsvariable == Unabhaengige_Ceteris_Paribus_Regressionsvariable:\n",
        "                \n",
        "                Ceteris_Paribus_Regressionsdatensatz[Unabhaengige_Ceteris_Paribus_Regressionsvariable] \\\n",
        "                = DatenQuelle[Unabhaengige_Ceteris_Paribus_Regressionsvariable]\n",
        "                \n",
        "            else:\n",
        "                \n",
        "                Ceteris_Paribus_Regressionsdatensatz[Unabhaengige_Regressionsvariable] \\\n",
        "                = DatenQuelle[Unabhaengige_Regressionsvariable].mean()\n",
        "                \n",
        "        Daten_LR_Modell['Trend_' + Abhaengige_Regressionsvariable \\\n",
        "                        + '_iAv_'+ Unabhaengige_Ceteris_Paribus_Regressionsvariable] \\\n",
        "        = LR_Modell.predict(Ceteris_Paribus_Regressionsdatensatz)\n",
        "        \n",
        "        Daten_LR_Modell['Trend_' + Abhaengige_Regressionsvariable + '_trendbereinigt'\\\n",
        "                        + '_iAv_'+ Unabhaengige_Ceteris_Paribus_Regressionsvariable] \\\n",
        "        = Daten_LR_Modell['Trend_' + Abhaengige_Regressionsvariable \\\n",
        "                        + '_iAv_'+ Unabhaengige_Ceteris_Paribus_Regressionsvariable].mean()\n",
        "        \n",
        "    \n",
        "    return LR_Modell, Daten_LR_Modell"
      ],
      "execution_count": 0,
      "outputs": []
    },
    {
      "cell_type": "markdown",
      "metadata": {
        "id": "WXJE8aqfnXMC",
        "colab_type": "text"
      },
      "source": [
        "### Ein einfaches lineares Modell - Abhängigkeit der Fahrten von der Nummer des Tages"
      ]
    },
    {
      "cell_type": "code",
      "metadata": {
        "scrolled": false,
        "id": "HKZED5v4nXMD",
        "colab_type": "code",
        "colab": {}
      },
      "source": [
        "Liste_Unabhaengige_Regressionsvariablen = [\n",
        "    'Tag',\n",
        "]\n",
        "\n",
        "LR_Modell, Daten_LR_Modell = LR_Modell_und_Daten(\n",
        "    Liste_Unabhaengige_Regressionsvariablen=Liste_Unabhaengige_Regressionsvariablen,\n",
        "    Abhaengige_Regressionsvariable='Fahrten',\n",
        "    DatenQuelle=DatenQuelle)"
      ],
      "execution_count": 0,
      "outputs": []
    },
    {
      "cell_type": "code",
      "metadata": {
        "scrolled": false,
        "id": "b0sIFuGqnXME",
        "colab_type": "code",
        "colab": {}
      },
      "source": [
        "Daten_LR_Modell.sample(5)"
      ],
      "execution_count": 0,
      "outputs": []
    },
    {
      "cell_type": "code",
      "metadata": {
        "scrolled": false,
        "id": "kbgZtDJnnXMG",
        "colab_type": "code",
        "colab": {}
      },
      "source": [
        "Grafik_Uebersicht(Abhaengige_Variable='Fahrten', \n",
        "                  DatenQuelle=Daten_LR_Modell)"
      ],
      "execution_count": 0,
      "outputs": []
    },
    {
      "cell_type": "code",
      "metadata": {
        "scrolled": false,
        "id": "OiAFbfpMnXMI",
        "colab_type": "code",
        "colab": {}
      },
      "source": [
        "Grafik_Uebersicht(Abhaengige_Variable='Fahrten_trendbereinigt', \n",
        "                  DatenQuelle=Daten_LR_Modell)"
      ],
      "execution_count": 0,
      "outputs": []
    },
    {
      "cell_type": "code",
      "metadata": {
        "scrolled": false,
        "id": "nxEb--Z1nXMK",
        "colab_type": "code",
        "colab": {}
      },
      "source": [
        "def Statistik(Liste_Unabhaengige_Regressionsvariablen=Liste_Unabhaengige_Regressionsvariablen,\n",
        "              Abhaengige_Regressionsvariable='Fahrten', \n",
        "              Daten_LR_Modell=Daten_LR_Modell, \n",
        "              LR_Modell=LR_Modell):\n",
        "    \n",
        "    Steigung = LR_Modell.coef_\n",
        "    \n",
        "    y = Daten_LR_Modell[Abhaengige_Regressionsvariable]\n",
        "    y_trend = Daten_LR_Modell['Trend']\n",
        "    X = Daten_LR_Modell[Liste_Unabhaengige_Regressionsvariablen]\n",
        "    \n",
        "    var_y = np.sum((y - y_trend) ** 2) / len(y)\n",
        "    X2 = np.hstack([X, np.ones((X.shape[0], 1))])\n",
        "    C = var_y * np.linalg.inv(np.dot(X2.T, X2))\n",
        "    var = C.diagonal()\n",
        "    \n",
        "    Fehler = np.sqrt(var[:])\n",
        "    \n",
        "    for Zaehler, Unabhaengige_Regressionsvariable \\\n",
        "    in enumerate(Liste_Unabhaengige_Regressionsvariablen):\n",
        "        \n",
        "        print('{0:.2f} +/- {1:.2f}'.format(Steigung[Zaehler], Fehler[Zaehler]), \n",
        "              Abhaengige_Regressionsvariable, \n",
        "              'je Einheit', \n",
        "              Unabhaengige_Regressionsvariable)\n",
        "              \n",
        "    return None"
      ],
      "execution_count": 0,
      "outputs": []
    },
    {
      "cell_type": "code",
      "metadata": {
        "scrolled": false,
        "id": "NKaRlRFQnXMM",
        "colab_type": "code",
        "colab": {}
      },
      "source": [
        "Statistik(Liste_Unabhaengige_Regressionsvariablen=Liste_Unabhaengige_Regressionsvariablen, \n",
        "          Abhaengige_Regressionsvariable='Fahrten', \n",
        "          Daten_LR_Modell=Daten_LR_Modell, \n",
        "          LR_Modell=LR_Modell)"
      ],
      "execution_count": 0,
      "outputs": []
    },
    {
      "cell_type": "code",
      "metadata": {
        "scrolled": false,
        "id": "MWDGuFG6nXMN",
        "colab_type": "code",
        "colab": {}
      },
      "source": [
        "def Lineare_Regressionsanalyse(\n",
        "    Liste_Unabhaengige_Regressionsvariablen=Liste_Unabhaengige_Regressionsvariablen,\n",
        "    Abhaengige_Regressionsvariable='Fahrten',\n",
        "    DatenQuelle=DatenQuelle):\n",
        "    \n",
        "    LR_Modell, Daten_LR_Modell = LR_Modell_und_Daten(\n",
        "        Liste_Unabhaengige_Regressionsvariablen=Liste_Unabhaengige_Regressionsvariablen,\n",
        "        Abhaengige_Regressionsvariable=Abhaengige_Regressionsvariable,\n",
        "        DatenQuelle=DatenQuelle)\n",
        "    \n",
        "    Grafik_Uebersicht_normal = \\\n",
        "    Grafik_Uebersicht(Abhaengige_Variable=Abhaengige_Regressionsvariable, \n",
        "                      DatenQuelle=Daten_LR_Modell)\n",
        "    \n",
        "    Grafik_Uebersicht_trendbereinigt = \\\n",
        "    Grafik_Uebersicht(Abhaengige_Variable=Abhaengige_Regressionsvariable + '_trendbereinigt', \n",
        "                      DatenQuelle=Daten_LR_Modell)\n",
        "    \n",
        "    Statistik(Liste_Unabhaengige_Regressionsvariablen=Liste_Unabhaengige_Regressionsvariablen,\n",
        "              Abhaengige_Regressionsvariable=Abhaengige_Regressionsvariable, \n",
        "              Daten_LR_Modell=Daten_LR_Modell, LR_Modell=LR_Modell)\n",
        "    \n",
        "    return Grafik_Uebersicht_normal & Grafik_Uebersicht_trendbereinigt"
      ],
      "execution_count": 0,
      "outputs": []
    },
    {
      "cell_type": "code",
      "metadata": {
        "scrolled": false,
        "id": "ZWVNck6ynXMO",
        "colab_type": "code",
        "colab": {}
      },
      "source": [
        "Lineare_Regressionsanalyse(['Tag'])"
      ],
      "execution_count": 0,
      "outputs": []
    },
    {
      "cell_type": "markdown",
      "metadata": {
        "id": "hhiWSaoqnXMQ",
        "colab_type": "text"
      },
      "source": [
        "### *Do-It-Yourself: Abhängigkeit der Fahrten von der Temperatur*"
      ]
    },
    {
      "cell_type": "code",
      "metadata": {
        "scrolled": false,
        "id": "PWH1bueWnXMR",
        "colab_type": "code",
        "colab": {}
      },
      "source": [
        "Lineare_Regressionsanalyse(['Temperatur'])"
      ],
      "execution_count": 0,
      "outputs": []
    },
    {
      "cell_type": "markdown",
      "metadata": {
        "id": "VjnKaVSHnXMS",
        "colab_type": "text"
      },
      "source": [
        "### Ein multi-lineares Modell - Abhängigkeit der Fahrten von Tageslänge und ist_Werktag"
      ]
    },
    {
      "cell_type": "code",
      "metadata": {
        "scrolled": false,
        "id": "BzLt4c2bnXMS",
        "colab_type": "code",
        "colab": {}
      },
      "source": [
        "Lineare_Regressionsanalyse(['Tageslaenge', 'ist_Werktag'])"
      ],
      "execution_count": 0,
      "outputs": []
    },
    {
      "cell_type": "markdown",
      "metadata": {
        "id": "iLTbG_-nnXMU",
        "colab_type": "text"
      },
      "source": [
        "### *Do-It-Yourself: Abhängigkeit der Fahrten von Temperatur und Niederschlag*"
      ]
    },
    {
      "cell_type": "code",
      "metadata": {
        "scrolled": false,
        "id": "lR0puqFKnXMU",
        "colab_type": "code",
        "colab": {}
      },
      "source": [
        ""
      ],
      "execution_count": 0,
      "outputs": []
    },
    {
      "cell_type": "markdown",
      "metadata": {
        "id": "fZ1E_ASfnXMW",
        "colab_type": "text"
      },
      "source": [
        "### Das vollständige multi-lineare Modell"
      ]
    },
    {
      "cell_type": "code",
      "metadata": {
        "scrolled": false,
        "id": "oO0ghDMYnXMX",
        "colab_type": "code",
        "colab": {}
      },
      "source": [
        "Lineare_Regressionsanalyse(['Tageslaenge', 'ist_Werktag', 'Temperatur', 'Niederschlag'])"
      ],
      "execution_count": 0,
      "outputs": []
    },
    {
      "cell_type": "code",
      "metadata": {
        "scrolled": false,
        "id": "nK8MY5_UnXMY",
        "colab_type": "code",
        "colab": {}
      },
      "source": [
        "Lineare_Regressionsanalyse(['Tageslaenge', 'ist_Werktag', 'Temperatur', 'Niederschlag', 'Tag'])"
      ],
      "execution_count": 0,
      "outputs": []
    },
    {
      "cell_type": "markdown",
      "metadata": {
        "id": "-dShfbcunXMZ",
        "colab_type": "text"
      },
      "source": [
        "## Ergebnisse"
      ]
    }
  ]
}