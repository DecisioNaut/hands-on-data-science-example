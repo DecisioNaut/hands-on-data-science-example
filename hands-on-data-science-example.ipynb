{
  "nbformat": 4,
  "nbformat_minor": 0,
  "metadata": {
    "colab": {
      "name": "hands-on-data-science-example.ipynb",
      "version": "0.3.2",
      "provenance": []
    },
    "language_info": {
      "codemirror_mode": {
        "name": "ipython",
        "version": 3
      },
      "file_extension": ".py",
      "mimetype": "text/x-python",
      "name": "python",
      "nbconvert_exporter": "python",
      "pygments_lexer": "ipython3",
      "version": "3.7.3"
    },
    "kernelspec": {
      "display_name": "Python 3",
      "language": "python",
      "name": "python3"
    }
  },
  "cells": [
    {
      "cell_type": "markdown",
      "metadata": {
        "id": "lAJIUG6goIO_",
        "colab_type": "text"
      },
      "source": [
        "# Data Science zum Mitmachen: Wetter, Radfahrer und mehr..."
      ]
    },
    {
      "cell_type": "markdown",
      "metadata": {
        "id": "seMw_Nl4oIPA",
        "colab_type": "text"
      },
      "source": [
        "## Einleitung"
      ]
    },
    {
      "cell_type": "markdown",
      "metadata": {
        "id": "hvxF6OhfoIPA",
        "colab_type": "text"
      },
      "source": [
        "Wie wir in der Bastelstrecke von [diy-iot2ds](https://github.com/birds-on-mars/diy-iot2ds) lernen können, ist es gar nicht sooo schwer und aufwendig, Wetterdaten automatisch zu erfassen. Allerdings ist die Analyse der isolierten Daten etwas ... gähn. Um spannendere Dinge zu tun und zu erkennen, muss man schon ein paar verschiedene Daten zusammenbringen - so wird wirkliche Data Science daraus!  \n",
        "\n",
        "Um zu **veranschaulichen, wie Data Science funktioniert**, haben wir uns von Jake van der Plas, einem Astrophysiker, Data Science-Meister und Python-Guru, inspirieren lassen. Jake hält nicht nur viele Talks zum Thema und hat hervorragende Bücher wie das [Data Science Handbook](https://jakevdp.github.io/PythonDataScienceHandbook/) geschrieben, das es übrigens komplett open-source und interaktiv durch- und zu bearbeiten gibt. Er schreibt auch seit längerem einen Blog, in dem er auch immer wieder Methoden anschaulich beschreibt.  \n",
        "\n",
        "In 2014 hat er dort die Frage gestellt, ob es einen Aufschwung in der Nutzung von Fahrrädern in Seattle gibt. Hier der [Link zum Blog von dunnemals](https://jakevdp.github.io/blog/2014/06/10/is-seattle-really-seeing-an-uptick-in-cycling/).  \n",
        "\n",
        "**Hier werden öffentlich zugängliche und recht volatile Daten zum (automatisch erfassten) Fahrrad-Verkehr über die Fremont-Brücke in Seatlle mit Wetter- und auch berechneten Daten in Verbindung gebracht, um zu verifizieren, ob es tatsächlich eine Veränderung der Fahrrad-Fahrten im Laufe der Zeit gibt bzw. welchen Einfluss andere Umgebungsdaten haben.** \n",
        "\n",
        "Die Antwort von Jake van der Plas in seinem Blog damals war: ja, es gibt einen Zuwachs an Fahrradverkehr.\n",
        "Jetzt sind wir ein paar Jahre weiter und wir fragen uns daher: ist das immer noch der Fall?  \n",
        "\n",
        "**Und auch das ist machbar!**  \n",
        "\n",
        "Google bietet eine kostenlose Umgebung dafür an. Falls noch nicht geschehen, jetzt **bitte einfach oben den Button \"open in colab\" anklicken** (und nach Studie der Bedingungen von Google diese ggf. akzeptieren, damit die Kiste läuft) - dann wird's interaktiv! \n",
        "- **Einen kleinen Teil des Ganzen muss/darf der geneigte Leser dabei selber machen!** \n",
        "- Andere Teile/Hilfsfunktionen haben wir \"weggeklappt\", um das Gesamtverständnis nicht zu behindern.\n",
        "- Damit alles läuft muss immer, wenn ein kleiner \"Play-Button\" an der Zelle ist, dieser angeklickt werden, sonst läuft der Programmcode nicht."
      ]
    },
    {
      "cell_type": "markdown",
      "metadata": {
        "id": "3vz8jsbSoIPB",
        "colab_type": "text"
      },
      "source": [
        "## Verwendete Datenquellen"
      ]
    },
    {
      "cell_type": "markdown",
      "metadata": {
        "id": "kdIpcU1coIPC",
        "colab_type": "text"
      },
      "source": [
        "Auf den Fahrradwegen der Fremont-Brücke in Seattle werden mit magnetischen Induktionsschleifen automatisch Fahrräder gezählt. Da [Open-Data](https://de.wikipedia.org/wiki/Open_Data) in den USA auch bei öffentlichen Institutionen recht verbreitet ist, sind diese Daten frei zugänglich. Sie werden [auf dem Open-Data-Portal der Stadt Seattle bereitgestellt](https://data.seattle.gov/Transportation/Fremont-Bridge-Hourly-Bicycle-Counts-by-Month-Octo/65db-xm6k). Die hier im Repository hinterlegten Daten sind vom 04. Juni 2019 und reichen zurück bis 2012.  \n",
        "\n",
        "So sieht übrigens die Fremont-Brücke in Seattle aus:\n",
        "\n",
        "![Fremont-Brücke in Seatlle](https://upload.wikimedia.org/wikipedia/commons/thumb/5/50/Seattle_%E2%80%94_Fremont_Bridge_%E2%80%94_%282016-06-12%29%2C_01.jpg/320px-Seattle_%E2%80%94_Fremont_Bridge_%E2%80%94_%282016-06-12%29%2C_01.jpg)  \n",
        "\n",
        "Auch Wetterdaten aus den USA sind frei zugänglich über das [National Center of Environmental Information](https://www.ncdc.noaa.gov/cdo-web/search?datasetid=GHCND), wo u.a. die Wetterstation des SeaTac Airport in Seattle ausgewählt werden kann (ID der Wetterstation \"USW00024233\"). Hier haben wir uns die letzten verfügbaren Daten vom 25. Juni 2019 (auch zurück bis 2012) besorgt, aber nicht alle möglichen Datenfelder heruntergeladen, sondern und auf Durchschnittstemperatur und Niederschlag beschränkt.\n",
        "\n",
        "Die [Daten liegen bereits in diesem Repository](https://github.com/QuantificAid/hands-on-data-science-example/blob/master/Daten/):"
      ]
    },
    {
      "cell_type": "code",
      "metadata": {
        "id": "VGnvRLSaoIPC",
        "colab_type": "code",
        "colab": {}
      },
      "source": [
        "Pfad_zu_Daten = 'https://raw.githubusercontent.com/QuantificAid/hands-on-data-science-example/master/Daten/'"
      ],
      "execution_count": 0,
      "outputs": []
    },
    {
      "cell_type": "markdown",
      "metadata": {
        "id": "oka9mzBgoIPG",
        "colab_type": "text"
      },
      "source": [
        "## Vorgehen"
      ]
    },
    {
      "cell_type": "markdown",
      "metadata": {
        "id": "qr4C_3CXoIPG",
        "colab_type": "text"
      },
      "source": [
        "Auch hier werden wir die üblichen Schritte einer Data Science-Analyse durchlaufen:\n",
        "- **Laden und erstes Explorieren der Daten** (*Gathering*) verbunden mit einer ersten ganz kurzen ersten Exploration, wie die Daten in der Rohversion aussehen.\n",
        "- **Strukturieren der Daten** (*Preprocessing*) um die Daten in eine gesamthaft weiterverarbeitbare Form zu bringen.\n",
        "- **Bereinigung und weitere Exploration der Daten** *(Cleansing, Exploration)*, um die Daten in die finale Form für die Modellbildung zu bringen. Glücklicherweise sind die Daten recht \"sauber\", was den ansonsten oft sehr mühseligen Teil der Bereinigung sehr kurz macht. Wir werden die Daten aber recht ausgiebig visualisieren.\n",
        "- Last, but not least **Modellierung der Daten** *(Modelling)*. Hier benutzen wir werden wir eine \"einfache\" multi-lineare Regression anwenden, um zu prüfen, welcher Einflussfaktor wie (linear) wirkt und welcher Trend sich am Ende für den zeitlichen Verlauf der Fahrrad-Nutzung ergibt. Wie lineare Regression funktioniert wird im entsprechenden Teil erläutert."
      ]
    },
    {
      "cell_type": "markdown",
      "metadata": {
        "id": "jHv5BxvuoIPH",
        "colab_type": "text"
      },
      "source": [
        "## Verwendete Programmbibliotheken"
      ]
    },
    {
      "cell_type": "markdown",
      "metadata": {
        "id": "e0ZNgBTroIPH",
        "colab_type": "text"
      },
      "source": [
        "Die Analyse der Daten nehmen wir in der Programmiersprache Python vor, die für sehr vieles geeignet ist, aber auch sehr beliebt für Data Science, Machine Learning und AI ist.\n",
        "\n",
        "Sie ist nicht nur deshalb in diesen Gebieten so beliebt, weil sie relativ leicht zu lernen und sehr vielseitig ist, sondern auch und insbesondere, weil es viele schlaue Geister in Python sehr coole Programm-Bibliotheken geschrieben haben, die open source bereitstehen, deren enthaltene Objekte, Methoden und Funktionen sofort verwendet werden können und die einem viel Arbeit abnehmen.\n",
        "\n",
        "Wir laden uns die folgenden Bibliotheken:\n",
        "- [pandas](https://pandas.pydata.org/) zur effizienten Bearbeitung von Datentabellen\n",
        "- [NumPy](https://www.numpy.org/) zur schnellen numerischen Bearbeitung von Tabellendaten und Matrizen (wird im Hintergrund auch von pandas verwendet)\n",
        "- [altair](https://altair-viz.github.io/) zur grafischen und interaktiven Darstellung von Daten und\n",
        "- [scikit-learn oder auch sklearn](https://scikit-learn.org/stable/), einer elegant programmierten Bibliothek mit vielen Funktionen zum maschinellen Lernen (u.a. der linearen Regression)."
      ]
    },
    {
      "cell_type": "code",
      "metadata": {
        "scrolled": false,
        "id": "sG_nZg0soIPI",
        "colab_type": "code",
        "cellView": "both",
        "colab": {}
      },
      "source": [
        "#Importieren von Programm-Bibliotheken\n",
        "\n",
        "# Programm-Bibliothek zur effizienten Bearbeitung von Datentabellen\n",
        "import pandas as pd\n",
        "\n",
        "# Programm-Bibliothek zur schnellen numerischen \n",
        "# Bearbeitung von Tabellendaten und Matrizen.\n",
        "import numpy as np\n",
        "\n",
        "# Programm-Bibliothek zu grafischen und interaktiven \n",
        "# Darstellung von Daten\n",
        "import altair as alt\n",
        "\n",
        "# Programm-Bibliothek u.a. Lineare Regression\n",
        "from sklearn.linear_model import LinearRegression"
      ],
      "execution_count": 0,
      "outputs": []
    },
    {
      "cell_type": "markdown",
      "metadata": {
        "id": "cfZeI8tvoIPK",
        "colab_type": "text"
      },
      "source": [
        "## Laden und erstes Explorieren der Daten *(Gathering, First Exploration)*"
      ]
    },
    {
      "cell_type": "markdown",
      "metadata": {
        "id": "iTQJfncxzgYS",
        "colab_type": "text"
      },
      "source": [
        "Um Daten mit Python (oder einer anderen geeigneten Programmiersprache oder Software) zu analysieren, muss man sie natürlich erst laden. Oft und auch hier haben wir mehrere Datenquellen und Bestandteile, so dass es Sinn macht, sich dabei auch einen allerersten Überblick zu verschaffen, um schon mal zu überlegen, wie man die Daten später zusammenbringen kann."
      ]
    },
    {
      "cell_type": "markdown",
      "metadata": {
        "id": "xTfJJSPnoIPL",
        "colab_type": "text"
      },
      "source": [
        "### Laden und erstes Explorieren der Verkehrsdaten"
      ]
    },
    {
      "cell_type": "markdown",
      "metadata": {
        "id": "5cCuQ79GoIPL",
        "colab_type": "text"
      },
      "source": [
        "Die Verkehrsdaten liegen in Form eine \"Comma seperated value\"-Datei (csv-Datei) vor, in der Tabellendaten sehr einfach gespeichert werden können.\n",
        "Diese können wir sehr einfach in ein Tabellenobjekt von pandas (einen sogenannten DataFrame) laden und uns mit einfachen Funktionen einen ersten Eindruck verschaffen.. "
      ]
    },
    {
      "cell_type": "code",
      "metadata": {
        "scrolled": false,
        "id": "GsPi6IDKoIPL",
        "colab_type": "code",
        "colab": {}
      },
      "source": [
        "# Laden der 'Verkehrsdaten' \n",
        "# aus Datei'Fremont_Bridge_Hourly_Bicycle_Counts_by_Month_October_2012_to_present.csv' \n",
        "# im Ordner 'Daten'\n",
        "Verkehrsdaten = pd.read_csv(\n",
        "    Pfad_zu_Daten + 'Fremont_Bridge_Hourly_Bicycle_Counts_by_Month_October_2012_to_present.csv')"
      ],
      "execution_count": 0,
      "outputs": []
    },
    {
      "cell_type": "code",
      "metadata": {
        "scrolled": false,
        "id": "Gmw30WcxoIPO",
        "colab_type": "code",
        "colab": {}
      },
      "source": [
        "# Lesen der obersten Reihe der 'Verkehrsdaten'\n",
        "Verkehrsdaten.head()"
      ],
      "execution_count": 0,
      "outputs": []
    },
    {
      "cell_type": "code",
      "metadata": {
        "scrolled": false,
        "id": "BQ9O4ktQoIPS",
        "colab_type": "code",
        "colab": {}
      },
      "source": [
        "# Lesen der untersten Reihen der 'Verkehrsdaten'\n",
        "Verkehrsdaten.tail()"
      ],
      "execution_count": 0,
      "outputs": []
    },
    {
      "cell_type": "code",
      "metadata": {
        "scrolled": false,
        "id": "MrJKPrploIPU",
        "colab_type": "code",
        "colab": {}
      },
      "source": [
        "# Abstrakte Information über die 'Verkehrsdaten'\n",
        "Verkehrsdaten.info()"
      ],
      "execution_count": 0,
      "outputs": []
    },
    {
      "cell_type": "code",
      "metadata": {
        "scrolled": false,
        "id": "9Ga-XO1goIPW",
        "colab_type": "code",
        "colab": {}
      },
      "source": [
        "# Grundlegende Statistik der 'Verkehrsdaten'\n",
        "Verkehrsdaten.describe(include='all').T"
      ],
      "execution_count": 0,
      "outputs": []
    },
    {
      "cell_type": "markdown",
      "metadata": {
        "id": "xJbdyEx_03-y",
        "colab_type": "text"
      },
      "source": [
        "Wie wir sehen, wird der Verkehr in der Datei stündlich und auf beiden Seiten der Brücke/in beiden Fahrrichtungen seit dem 10.03.2012 bis zum 31.05.2019 erfasst. Die Fahrten liegen im float64-Format vor (Fließkommazahlen), während die Datums-Zeilen ('Date') noch nicht als solche erkannt wurden und nur als allgemeines 'object' vorliegen. Insgesamt haben wir zu fast 60.000 Zeitpunkten jeweils zwei Fahrt-Informationen. Das ist mehr Information, als wir brauchen. Uns reichen die Fahrten insgesamt und auch eine Aggregation auf einzelne Tage wird uns genügen.\n",
        "\n",
        "Wir werden später also:\n",
        "- Das Datums-Format \"reparieren\", damit wir damit weiterrechnen können.\n",
        "- Die Fahrten auf Tage aggregieren.\n",
        "- Die Fahrten in beide Richtungen zusammenrechnen.\n"
      ]
    },
    {
      "cell_type": "markdown",
      "metadata": {
        "id": "70uUdRRIoIPY",
        "colab_type": "text"
      },
      "source": [
        "### *Do-It-Yourself: Laden und erstes Explorieren der Wetterdaten*"
      ]
    },
    {
      "cell_type": "markdown",
      "metadata": {
        "id": "lw5Mm--H2u6l",
        "colab_type": "text"
      },
      "source": [
        "Nachdem wir im vorherigen Abschnitt gezeigt haben, wie die ganzen Schritte des Ladens und für eine erste Orientierung mit den Verkehrsdaten funktionieren, ist es nun am geneigten Leser dasselbe mit den Wetterdaten in der Datei '1790755.csv' vorzunehmen.\n",
        "\n",
        "Im Zweifel einfach den Code von oben kopieren und leicht anpassen sollte genügen...\n",
        "\n",
        "*P.S.: Falls es nicht klappt, darf auch [hier](https://github.com/QuantificAid/hands-on-data-science-example/blob/master/hands-on-data-science-example-solution.ipynb) gespickt werden* "
      ]
    },
    {
      "cell_type": "code",
      "metadata": {
        "scrolled": false,
        "id": "V6dyvMw6oIPZ",
        "colab_type": "code",
        "colab": {}
      },
      "source": [
        "# Lesen der 'Wetterdaten' \n",
        "# aus Datei '1790755.csv' \n",
        "# im Ordner 'Daten' \n",
        "\n",
        "# DO-IT-YOURSELF"
      ],
      "execution_count": 0,
      "outputs": []
    },
    {
      "cell_type": "code",
      "metadata": {
        "scrolled": false,
        "id": "5wYjR9YhoIPb",
        "colab_type": "code",
        "colab": {}
      },
      "source": [
        "# Lesen der obersten Reihe der 'Wetterdaten'\n",
        "\n",
        "# DO-IT-YOURSELF"
      ],
      "execution_count": 0,
      "outputs": []
    },
    {
      "cell_type": "code",
      "metadata": {
        "scrolled": false,
        "id": "ZlHXooHdoIPd",
        "colab_type": "code",
        "colab": {}
      },
      "source": [
        "# Lesen der untersten Reihe der 'Wetterdaten'\n",
        "\n",
        "# DO-IT-YOURSELF"
      ],
      "execution_count": 0,
      "outputs": []
    },
    {
      "cell_type": "code",
      "metadata": {
        "scrolled": false,
        "id": "r0AinRYqoIPf",
        "colab_type": "code",
        "colab": {}
      },
      "source": [
        "# Abstrakte Information über die 'Wetterdaten'\n",
        "\n",
        "# DO-IT-YOURSELF"
      ],
      "execution_count": 0,
      "outputs": []
    },
    {
      "cell_type": "code",
      "metadata": {
        "scrolled": false,
        "id": "w542pwjwoIPi",
        "colab_type": "code",
        "colab": {}
      },
      "source": [
        "# Grundlegende Statistik der 'Wetterdaten'\n",
        "\n",
        "# DO-IT-YOURSELF"
      ],
      "execution_count": 0,
      "outputs": []
    },
    {
      "cell_type": "markdown",
      "metadata": {
        "id": "H7wFfQFJ6oAg",
        "colab_type": "text"
      },
      "source": [
        "Wie wir sehen (wenn alles geklappt hat), liegen hier zu fast jedem Tag seit dem 10.03.2012 bis zum 19.06.2019 Daten zu Niederschlagsmenge (PRCT) und Durchschnitts-Temperatur (TAVG) vor. Das Datumsformat 'DATE' wurde auch nicht nicht ganz korrekt erkannt. Niederschlag und Temperatur liegen im Fließkomma--Format vor.\n",
        "\n",
        "Wir werden also später:\n",
        "- Das Datums-Format reparieren.\n",
        "\n",
        "Wenn wir die Daten mit den Verkehrsdaten zusammenfügen, wird es aber aus der einen oder anderen Tabelle auch fehlende Daten geben. Damit müssen wir irgendwie umgehen, da eine Lineare Regression, wie wir sie vorhaben, fehlenden Daten nicht verarbeiten kann.\n",
        "Weil wir insgesamt so viele Daten haben können wir Reihen mit fehlenden Daten aber einfach löschen. Die Regression wird's nicht wirklich beeinflussen..."
      ]
    },
    {
      "cell_type": "markdown",
      "metadata": {
        "id": "XUOdaTP3oIPk",
        "colab_type": "text"
      },
      "source": [
        "## Strukturieren der Daten *(Preprocessing)*"
      ]
    },
    {
      "cell_type": "markdown",
      "metadata": {
        "id": "r3x7AzcT_fjJ",
        "colab_type": "text"
      },
      "source": [
        "Nun wollen wir unsere Datenquellen \"Verkehrsdaten\" und \"Wetterdaten\" mit \"reparierten\" und bereinigten Daten (s. Erkenntnisse des vorherigen Abschnitts) in eine neuen Tabelle 'Daten' zusammenbringen. \n",
        "\n",
        "Weiterhin nehmen wir an (und werden es später auch sehen), dass weitere Größen eine Rolle spielen:\n",
        "- Die Tageslänge von Sonnenauf- bis -untergang könnte die Anzahl der Tage beeinflussen.\n",
        "- Der Umstand, ob ein Tag ein Werktag  ist oder auf ein Wochenende fällt, könnte beeinflussen wieviele Leute Radfahren (\"Berufsverkehr\" vs. \"Freizeitverkehr\"). Diese Daten sind nicht in den Tabellen enthalten, wir können sie uns aber aus dem Datum, dass wir ja haben errechnen. "
      ]
    },
    {
      "cell_type": "code",
      "metadata": {
        "scrolled": false,
        "id": "Pc7jvbOsoIPl",
        "colab_type": "code",
        "colab": {}
      },
      "source": [
        "# Anlegen einer neuen Datenstruktur 'Daten'\n",
        "Daten = pd.DataFrame()"
      ],
      "execution_count": 0,
      "outputs": []
    },
    {
      "cell_type": "markdown",
      "metadata": {
        "id": "NVDSJVx6oIPm",
        "colab_type": "text"
      },
      "source": [
        "### Formattieren und Aggregieren und Hinzufügen der Verkehrsdaten"
      ]
    },
    {
      "cell_type": "markdown",
      "metadata": {
        "id": "XNEDpnCSoIPn",
        "colab_type": "text"
      },
      "source": [
        "Zunächst formatieren wir die Spalte 'Date' von 'Verkehrsdaten' in ein Format um, dass von als Zeiten interpretiert werden kann:"
      ]
    },
    {
      "cell_type": "code",
      "metadata": {
        "scrolled": false,
        "id": "vE0doslUoIPo",
        "colab_type": "code",
        "colab": {}
      },
      "source": [
        "# Konvertieren der Spalte 'Date' in 'Verkehrsdaten'\n",
        "# in ein \"echtes\" Datumsformat\n",
        "Verkehrsdaten['Date'] = pd.to_datetime(Verkehrsdaten['Date'])"
      ],
      "execution_count": 0,
      "outputs": []
    },
    {
      "cell_type": "markdown",
      "metadata": {
        "id": "4qBmwB1soIPs",
        "colab_type": "text"
      },
      "source": [
        "Dann setzen wir den Index der Tabelle 'Verkehrsdaten' auf 'date'. Das ermöglicht das einfache  Aggregieren von Stunden auf Tage und erleichtert das Zusammenfügen mit anderen Tabellen:"
      ]
    },
    {
      "cell_type": "code",
      "metadata": {
        "scrolled": false,
        "id": "XY9Q_0VZoIPt",
        "colab_type": "code",
        "colab": {}
      },
      "source": [
        "# Ersetzen der Index-Spalte mit der Spalte 'Date' aus 'Verkehrsdaten'\n",
        "Verkehrsdaten = Verkehrsdaten.set_index('Date')"
      ],
      "execution_count": 0,
      "outputs": []
    },
    {
      "cell_type": "markdown",
      "metadata": {
        "id": "9QShZjbDoIPw",
        "colab_type": "text"
      },
      "source": [
        "Um Vergleichbarkeit zu den Wetterdaten zu erreichen, aggregieren (\"resamplen\") wir nun auf summierte Tage (days/\"d\"):"
      ]
    },
    {
      "cell_type": "code",
      "metadata": {
        "scrolled": false,
        "id": "3ALdCg2YoIPx",
        "colab_type": "code",
        "colab": {}
      },
      "source": [
        "# Aggregieren und Ersetzen der stündlichen 'Verkehrsdaten' \n",
        "# durch tägliche 'Verkehrsdaten'\n",
        "Verkehrsdaten = Verkehrsdaten.resample('d').sum()"
      ],
      "execution_count": 0,
      "outputs": []
    },
    {
      "cell_type": "markdown",
      "metadata": {
        "id": "SfOctSeHFJNZ",
        "colab_type": "text"
      },
      "source": [
        "Um zu sehen, ob unsere Aggregation erfolgreich war, guccken wir uns die Daten nochmals an:"
      ]
    },
    {
      "cell_type": "code",
      "metadata": {
        "scrolled": false,
        "id": "ieS76NQFoIP0",
        "colab_type": "code",
        "colab": {}
      },
      "source": [
        "# Lesen von Beispielreihen der 'Verkehrsdaten'\n",
        "Verkehrsdaten.sample(5)"
      ],
      "execution_count": 0,
      "outputs": []
    },
    {
      "cell_type": "code",
      "metadata": {
        "scrolled": false,
        "id": "OQfjwC2PoIP1",
        "colab_type": "code",
        "colab": {}
      },
      "source": [
        "# Abstrakte Information über 'Verkehrsdaten'\n",
        "Verkehrsdaten.info()"
      ],
      "execution_count": 0,
      "outputs": []
    },
    {
      "cell_type": "code",
      "metadata": {
        "scrolled": false,
        "id": "6glV7SdMoIP3",
        "colab_type": "code",
        "colab": {}
      },
      "source": [
        "# Grundlegende Statistik der 'Verkehrsdaten'\n",
        "Verkehrsdaten.describe(include='all').T"
      ],
      "execution_count": 0,
      "outputs": []
    },
    {
      "cell_type": "markdown",
      "metadata": {
        "id": "K7s-Jz5ZG1yd",
        "colab_type": "text"
      },
      "source": [
        "Es scheint alles funktioniert zu haben! Daher summieren wir nun die Tagen in beide Verkehrsrichtungen und fügen die Summe einer neuen Spalte \"Fahrten\" von \"Daten\" hinzu:"
      ]
    },
    {
      "cell_type": "code",
      "metadata": {
        "scrolled": false,
        "id": "cL6CRBULoIP5",
        "colab_type": "code",
        "colab": {}
      },
      "source": [
        "# Übertragen der Summe der Spalten aus den 'Verkehrsdaten'\n",
        "# in eine (neue) Spalte 'Fahrten' der 'Daten'\n",
        "Daten['Fahrten'] = Verkehrsdaten['Fremont Bridge East Sidewalk'] + Verkehrsdaten['Fremont Bridge West Sidewalk']"
      ],
      "execution_count": 0,
      "outputs": []
    },
    {
      "cell_type": "markdown",
      "metadata": {
        "id": "JAHjkJp1nAvO",
        "colab_type": "text"
      },
      "source": [
        "Auch die Index-Struktur mit den Datumsangaben übernehmen wir:"
      ]
    },
    {
      "cell_type": "code",
      "metadata": {
        "scrolled": false,
        "id": "maTkGNfLoIP7",
        "colab_type": "code",
        "colab": {}
      },
      "source": [
        "# Benennung des Index der 'Daten' mit 'Datum'\n",
        "Daten.index = pd.DatetimeIndex(data=Verkehrsdaten.index, name='Datum')"
      ],
      "execution_count": 0,
      "outputs": []
    },
    {
      "cell_type": "markdown",
      "metadata": {
        "id": "K2sxX5bAnIln",
        "colab_type": "text"
      },
      "source": [
        "Und gucken und (mal wieder) an, ob alles geklappt hat:"
      ]
    },
    {
      "cell_type": "code",
      "metadata": {
        "scrolled": false,
        "id": "uRvPmClvoIP8",
        "colab_type": "code",
        "colab": {}
      },
      "source": [
        "# Lesen von Beispielreihen aus den 'Daten'\n",
        "Daten.sample(5)"
      ],
      "execution_count": 0,
      "outputs": []
    },
    {
      "cell_type": "markdown",
      "metadata": {
        "id": "R2E7kaqeoIP-",
        "colab_type": "text"
      },
      "source": [
        "### Ermitteln und Hinzufügen berechneter Daten (Tageslänge und Wochentag)"
      ]
    },
    {
      "cell_type": "markdown",
      "metadata": {
        "id": "3ZcsAzydncDP",
        "colab_type": "text"
      },
      "source": [
        "Wie gesagt, vermuten wir, dass auch sich im Jahresverlauf ändernde Tageslänge eine Rolle beim Aufkommen der Fahrrad-Fahrten spielt. Weiterhin macht es erfahrungsgemäß einen Unterschied, ob ein \"Werktag\" (hier vereinfacht Montag bis Freitag) ist, oder ob wir Wochenende haben. Zu guter letzt brauchen wir später auch noch einen Zähler für die Tage als Hilfsgröße, weil unser Algorithmus nicht ohne weiteres mit Datums-Angaben umgehen kann.\n",
        "\n",
        "Statt und auch dafür einen Quell-Datensatz zu suchen, generieren wir ihn einfach selbst, indem wir die gewünschten Größen \"Tag\", \"Tageslaenge\" und \"ist_Werktag\" berechnen."
      ]
    },
    {
      "cell_type": "markdown",
      "metadata": {
        "id": "3lJuv2PFoOZw",
        "colab_type": "text"
      },
      "source": [
        "Fangen wir damit an, dass wir eine neue Datentabelle \"Berechnete Größen\" mit dem Datums-Index erstellen:"
      ]
    },
    {
      "cell_type": "code",
      "metadata": {
        "scrolled": false,
        "id": "vwPg6eqloIP-",
        "colab_type": "code",
        "colab": {}
      },
      "source": [
        "# Anlegen einer neuen Datenstruktur 'Berechnete_Daten'\n",
        "# mit Übernahme der Index-Struktur von 'Daten'\n",
        "Berechnete_Daten = pd.DataFrame(index=Daten.index)"
      ],
      "execution_count": 0,
      "outputs": []
    },
    {
      "cell_type": "markdown",
      "metadata": {
        "id": "mAP-TUTWoXqh",
        "colab_type": "text"
      },
      "source": [
        "Aus dem Datums-Index erzeugen wir nun den \"Tag\" als neue Spalte in \"Berechnete Daten\":"
      ]
    },
    {
      "cell_type": "code",
      "metadata": {
        "scrolled": false,
        "id": "LtUb9x9_oIQA",
        "colab_type": "code",
        "colab": {}
      },
      "source": [
        "# Neue Spalte 'Tag' in 'Berechnete_Daten'\n",
        "# aus den Zahlenwerten des 'index' (der das Datum enthalt)\n",
        "Berechnete_Daten['Tag'] = pd.to_numeric(Berechnete_Daten.index)"
      ],
      "execution_count": 0,
      "outputs": []
    },
    {
      "cell_type": "markdown",
      "metadata": {
        "id": "hW5fbzr-o8oN",
        "colab_type": "text"
      },
      "source": [
        "Wie immer gucken wir uns das Resultat kurz an:"
      ]
    },
    {
      "cell_type": "code",
      "metadata": {
        "scrolled": false,
        "id": "lFOtsjlFoIQC",
        "colab_type": "code",
        "colab": {}
      },
      "source": [
        "# Lesen von Beispielsreihen aus 'Berechnete Daten'\n",
        "Berechnete_Daten['Tag'].sample(5)"
      ],
      "execution_count": 0,
      "outputs": []
    },
    {
      "cell_type": "markdown",
      "metadata": {
        "id": "1ZzImxOWpOSs",
        "colab_type": "text"
      },
      "source": [
        "Was ist denn da passiert?!?\n",
        "\n",
        "Ach ja, Daten werden insgeheim in Nano-Sekunden seit Neunzehnhundertirgendwas gespeichert. Aber auch kein Problem: das rechnen wir um:"
      ]
    },
    {
      "cell_type": "code",
      "metadata": {
        "scrolled": false,
        "id": "SlNLLyjFoIQE",
        "colab_type": "code",
        "colab": {}
      },
      "source": [
        "# Umwandeln der Spalte 'Tag' in ganzzahlige Werte\n",
        "# die einzelnen Tagen entsprechen\n",
        "Tageslaenge_in_Nanosekunden = 24*60*60*1_000_000_000\n",
        "Berechnete_Daten['Tag'] = (Berechnete_Daten['Tag'] - Berechnete_Daten['Tag'].min()) \\\n",
        "                        / Tageslaenge_in_Nanosekunden"
      ],
      "execution_count": 0,
      "outputs": []
    },
    {
      "cell_type": "markdown",
      "metadata": {
        "id": "OS2kfjvupi20",
        "colab_type": "text"
      },
      "source": [
        "Und nun alles klar?"
      ]
    },
    {
      "cell_type": "code",
      "metadata": {
        "scrolled": false,
        "id": "RFlRSrlLoIQG",
        "colab_type": "code",
        "colab": {}
      },
      "source": [
        "# Lesen der ersten Reihen von 'Berechnete Daten'\n",
        "Berechnete_Daten.head(5)"
      ],
      "execution_count": 0,
      "outputs": []
    },
    {
      "cell_type": "markdown",
      "metadata": {
        "id": "9hcX-PH7pml_",
        "colab_type": "text"
      },
      "source": [
        "Nachdem auch das geklappt hat, berechnen wir die Tageslaenge. Dazu brauchen wir eine Formel. Da es auf die aber nicht im Detail angkommt, klappen wir den Code hier mal weg. **Aber bitte die Zelle trotzdem ausführen! Sonst funktioniert sie eben nicht!**"
      ]
    },
    {
      "cell_type": "code",
      "metadata": {
        "scrolled": false,
        "id": "Eq_V8ywroIQI",
        "colab_type": "code",
        "cellView": "form",
        "colab": {}
      },
      "source": [
        "#@title Weggeklappt: Formel zur Bereichnung der Tageslänge anhand des Datums\n",
        "# Formel zur Berechnung der Tageslänge in Abhängigkeit des\n",
        "# Datums und des Laengengrades \n",
        "# (voreingestellt ist der Längengrad von Seattle)\n",
        "\n",
        "def Berechne_Tageslaenge(Datum, Laengengrad=47.61):\n",
        "    \n",
        "    # Neigung der Erdachse in Grad\n",
        "    Neigung_erdachse = 23.44\n",
        "    \n",
        "    # Wintersonnenwende\n",
        "    Wintersonnenwende = pd.datetime(2000, 12, 21)\n",
        "    \n",
        "    # Tage seit Wintersonnenwende (WSW)\n",
        "    Zeit_seit_WSW = Datum - Wintersonnenwende\n",
        "    Tage_seit_WSW = Zeit_seit_WSW.total_seconds() / (24. * 60. * 60.)\n",
        "    Tage_seit_WSW = Tage_seit_WSW % 365.25\n",
        "    \n",
        "    m = 1. - \\\n",
        "        np.tan(np.radians(Laengengrad)) * \\\n",
        "        np.tan(\n",
        "            np.radians(Neigung_erdachse) * \n",
        "            np.cos(Tage_seit_WSW * np.pi / 182.625) \n",
        "    )\n",
        "    \n",
        "    m = max(0, min(m, 2))\n",
        "    \n",
        "    Tageslaenge = 24. * np.degrees(np.arccos(1 - m)) / 180.\n",
        "    \n",
        "    return Tageslaenge"
      ],
      "execution_count": 0,
      "outputs": []
    },
    {
      "cell_type": "markdown",
      "metadata": {
        "id": "RYZCBgzvp-4d",
        "colab_type": "text"
      },
      "source": [
        "Nun erzeugen wir eine Liste mit den Tageslängen und heften diese als neue Spalte \"Tageslaenge\" an \"Berechnete Daten\" an:"
      ]
    },
    {
      "cell_type": "code",
      "metadata": {
        "scrolled": false,
        "id": "NFef2jzWoIQK",
        "colab_type": "code",
        "cellView": "both",
        "colab": {}
      },
      "source": [
        "# Aufbau einer Liste von Tageslaengen und \n",
        "# Übernahme in eine neue Spalte 'Tageslaenge'\n",
        "# in 'Berechnete_Daten'\n",
        "Tageslaengen = list(map(Berechne_Tageslaenge, Berechnete_Daten.index))\n",
        "Berechnete_Daten['Tageslaenge'] = Tageslaengen"
      ],
      "execution_count": 0,
      "outputs": []
    },
    {
      "cell_type": "markdown",
      "metadata": {
        "id": "Byppm3hxqc15",
        "colab_type": "text"
      },
      "source": [
        "Was machen wir jetzt? Klar: überprüfen..."
      ]
    },
    {
      "cell_type": "code",
      "metadata": {
        "scrolled": false,
        "id": "gEJPIoNPoIQM",
        "colab_type": "code",
        "colab": {}
      },
      "source": [
        "# Lesen von Beispielreihen aus 'Berechnete Daten'\n",
        "Berechnete_Daten.sample(5)"
      ],
      "execution_count": 0,
      "outputs": []
    },
    {
      "cell_type": "markdown",
      "metadata": {
        "id": "eA0FQAWtqiGP",
        "colab_type": "text"
      },
      "source": [
        "Nun errechnen wir, ob ein Tag ein Werktag (Montag bis Freitag) ist und vergeben dann eine \"1\" oder eben Wochenende (Samstag, Sonntag) und vergeben dann eine \"0\". Wir können dazu eine Funktion von pandas nutzen, die Datumsangaben in den Wochentag umrechnet. Montag ist hier \"0\", Dienstag \"1\" ... usw. ... bis Sonntag \"6\". Zum Umrechnen nutzen wir das Teilen ohne Rest mit \"//\".  \n",
        "\n",
        "Viel Spaß beim Nachvollzug der Formel! "
      ]
    },
    {
      "cell_type": "code",
      "metadata": {
        "scrolled": false,
        "id": "ZMO0PaTpoIQO",
        "colab_type": "code",
        "colab": {}
      },
      "source": [
        "# Berechnung, ob ein Tag ein Werktag \n",
        "# ist (1) oder nicht (0) und\n",
        "# Übernahme in eine neue Spalte 'ist_Werktag' von 'Berechnete_Daten'\n",
        "Berechnete_Daten['ist_Werktag'] = 1 - Berechnete_Daten.index.dayofweek // 5"
      ],
      "execution_count": 0,
      "outputs": []
    },
    {
      "cell_type": "markdown",
      "metadata": {
        "id": "YuKxTX1freZO",
        "colab_type": "text"
      },
      "source": [
        "Ob uns das Resultat recht gibt?"
      ]
    },
    {
      "cell_type": "code",
      "metadata": {
        "scrolled": false,
        "id": "HHM9czpvoIQQ",
        "colab_type": "code",
        "colab": {}
      },
      "source": [
        "# Lesen von Beispielreihen aus 'Berechnete Daten'\n",
        "Berechnete_Daten.sample(5)"
      ],
      "execution_count": 0,
      "outputs": []
    },
    {
      "cell_type": "markdown",
      "metadata": {
        "id": "nZ7DwktZrjqY",
        "colab_type": "text"
      },
      "source": [
        "Es tut es!\n",
        "\n",
        "Zuletzt nehmen wir nun die Daten und heften die gesammelten Spalten \"Tag\", \"Tageslaenge\" und \"ist_Werktag\" an unsere Tabelle \"Daten\" an:"
      ]
    },
    {
      "cell_type": "code",
      "metadata": {
        "scrolled": false,
        "id": "5qjPYxUnoIQR",
        "colab_type": "code",
        "colab": {}
      },
      "source": [
        "# Übernahme von 'Tageslaenge' und 'ist_Werktag'\n",
        "# aus 'Berechnete_Daten' in die 'Daten'\n",
        "Daten[['Tag', 'Tageslaenge', 'ist_Werktag']] = Berechnete_Daten[['Tag', 'Tageslaenge', 'ist_Werktag']]"
      ],
      "execution_count": 0,
      "outputs": []
    },
    {
      "cell_type": "markdown",
      "metadata": {
        "id": "DKmD5NW2r039",
        "colab_type": "text"
      },
      "source": [
        "Auch das wir hoffentlich funktioniert haben:"
      ]
    },
    {
      "cell_type": "code",
      "metadata": {
        "scrolled": false,
        "id": "dnD4vJcQoIQT",
        "colab_type": "code",
        "colab": {}
      },
      "source": [
        "# Lesen von Beispielreihen aus 'Daten'\n",
        "Daten.sample(5)"
      ],
      "execution_count": 0,
      "outputs": []
    },
    {
      "cell_type": "markdown",
      "metadata": {
        "id": "tm_1wHitoIQV",
        "colab_type": "text"
      },
      "source": [
        "### *Do-It-Yourself: Formatieren und Hinzufügen ausgewählter Wetterdaten*"
      ]
    },
    {
      "cell_type": "markdown",
      "metadata": {
        "id": "HbsxvMRLr59X",
        "colab_type": "text"
      },
      "source": [
        "So, nun seid Ihr an der Reihen. Einfach sorgfältig die Aufgabe jeder Zelle angucken, vergleichbaren Code von oben sorgfältig transferieren und rein in die Tasten!\n",
        "\n",
        "*P.S.: Falls es nicht klappt, darf auch [hier](https://github.com/QuantificAid/hands-on-data-science-example/blob/master/hands-on-data-science-example-solution.ipynb) gespickt werden.* "
      ]
    },
    {
      "cell_type": "code",
      "metadata": {
        "scrolled": false,
        "id": "X3AbeShdoIQW",
        "colab_type": "code",
        "colab": {}
      },
      "source": [
        "# Konvertieren der Spalte 'DATE' in 'Wetterdaten'\n",
        "# in ein \"echtes\" Datumsformat\n",
        "# (vgl. 'Formattieren und Aggregieren und Hinzufügen der Verkehrsdaten')\n",
        "\n",
        "# DO-IT-YOURSELF"
      ],
      "execution_count": 0,
      "outputs": []
    },
    {
      "cell_type": "code",
      "metadata": {
        "scrolled": false,
        "id": "sJO_kyP1oIQX",
        "colab_type": "code",
        "colab": {}
      },
      "source": [
        "# Ersetzen der Index-Spalte mit der Spalte 'DATE' aus 'Wetterdaten'\n",
        "# (vgl. 'Formattieren und Aggregieren und Hinzufügen der Verkehrsdaten')\n",
        "\n",
        "# DO-IT-YOURSELF"
      ],
      "execution_count": 0,
      "outputs": []
    },
    {
      "cell_type": "code",
      "metadata": {
        "id": "m1wGTP8hHqU6",
        "colab_type": "code",
        "colab": {}
      },
      "source": [
        "# Lesen von Beispielreiehen aus 'Wetterdaten'\n",
        "\n",
        "# DO-IT-YOURSELF"
      ],
      "execution_count": 0,
      "outputs": []
    },
    {
      "cell_type": "code",
      "metadata": {
        "scrolled": false,
        "id": "TPa7GjKMoIQZ",
        "colab_type": "code",
        "colab": {}
      },
      "source": [
        "# Abstrakte Information über 'Wetterdaten'\n",
        "# (vgl. 'Formattieren und Aggregieren und Hinzufügen der Verkehrsdaten')\n",
        "\n",
        "# DO-IT-YOURSELF"
      ],
      "execution_count": 0,
      "outputs": []
    },
    {
      "cell_type": "code",
      "metadata": {
        "scrolled": false,
        "id": "4HF1Xhv1oIQa",
        "colab_type": "code",
        "colab": {}
      },
      "source": [
        "# Grundlegende Statistik der 'Wetterdaten'\n",
        "# (vgl. 'Formattieren und Aggregieren und Hinzufügen der Verkehrsdaten')\n",
        "\n",
        "# DO-IT-YOURSELF"
      ],
      "execution_count": 0,
      "outputs": []
    },
    {
      "cell_type": "code",
      "metadata": {
        "scrolled": false,
        "id": "9ER7c52moIQe",
        "colab_type": "code",
        "colab": {}
      },
      "source": [
        "# Übernahme der Spalten 'TAVG' (average temperature = durchschnittliche Temperatur)\n",
        "# und 'PRCP' (precipitation = Niederschlag) in \n",
        "# neue Spalten von 'Daten' 'Temperatur' und 'Niederschlag'\n",
        "# (vgl. 'Formattieren und Aggregieren und Hinzufügen der Verkehrsdaten')\n",
        "\n",
        "# DO-IT-YOURSELF (ZWEI ZEILEN)"
      ],
      "execution_count": 0,
      "outputs": []
    },
    {
      "cell_type": "code",
      "metadata": {
        "scrolled": false,
        "id": "Nj-eaEjnoIQg",
        "colab_type": "code",
        "colab": {}
      },
      "source": [
        "# Lesen von Beispielreihen aus 'Daten'\n",
        "# (vgl. 'Formattieren und Aggregieren und Hinzufügen der Verkehrsdaten')\n",
        "\n",
        "# DO-IT-YOURSELF"
      ],
      "execution_count": 0,
      "outputs": []
    },
    {
      "cell_type": "markdown",
      "metadata": {
        "id": "951XU5LUoIQi",
        "colab_type": "text"
      },
      "source": [
        "## Bereinigung und weitere Exploration der Daten *(Cleansing, Exploration)*"
      ]
    },
    {
      "cell_type": "markdown",
      "metadata": {
        "id": "1VY8umOgysBK",
        "colab_type": "text"
      },
      "source": [
        "Nachdem wir alle Daten wie gewünscht \"zusammengeklebt\" haben, können wir nun richtig loslegen und uns die Gemengelage mal gesamthaft und auch grafisch angucken."
      ]
    },
    {
      "cell_type": "markdown",
      "metadata": {
        "id": "RcEf1JKKzE0u",
        "colab_type": "text"
      },
      "source": [
        "Zunächst sichern wir unsere Ausgangsdaten mal, indem wir sie in eine neue Datentabelle \"DatenQuelle\" kopieren, mit der wir fürderhin weiterarbeiten:"
      ]
    },
    {
      "cell_type": "code",
      "metadata": {
        "scrolled": false,
        "id": "6j7XgW8_oIQi",
        "colab_type": "code",
        "colab": {}
      },
      "source": [
        "# Kopieren von 'Daten' in eine\n",
        "# neue Datentabelle 'DatenQuelle'\n",
        "# um die Daten vor weiterer Veränderung zu schützen\n",
        "DatenQuelle = Daten.copy()"
      ],
      "execution_count": 0,
      "outputs": []
    },
    {
      "cell_type": "markdown",
      "metadata": {
        "id": "1VlpKWPxzS_M",
        "colab_type": "text"
      },
      "source": [
        "Da unsere Algorithmen im weiteren mit der Datum-Indexspalte nur auf Umwegen zurecht kommen, erzeugen wir einen neuen Index und ziehen das \"Datum\" in eine neue Spalte:"
      ]
    },
    {
      "cell_type": "code",
      "metadata": {
        "scrolled": false,
        "id": "xT3L_9U6oIQl",
        "colab_type": "code",
        "colab": {}
      },
      "source": [
        "# Neue Spalte 'Datum' aus dem \n",
        "# Index von DatenQuelle (und\n",
        "# Erzeugen eines neuen, generischen Indexes)\n",
        "DatenQuelle.reset_index(drop=False, inplace=True)"
      ],
      "execution_count": 0,
      "outputs": []
    },
    {
      "cell_type": "markdown",
      "metadata": {
        "id": "VZXwLShDzmJQ",
        "colab_type": "text"
      },
      "source": [
        "Natürlich gucken wir uns wieder das Zwischenergebnis an:"
      ]
    },
    {
      "cell_type": "code",
      "metadata": {
        "scrolled": false,
        "id": "v31T_FYcoIQo",
        "colab_type": "code",
        "colab": {}
      },
      "source": [
        "# Lesen von Beispielreihen von 'DatenQuelle'\n",
        "DatenQuelle.sample(5)"
      ],
      "execution_count": 0,
      "outputs": []
    },
    {
      "cell_type": "markdown",
      "metadata": {
        "id": "J4ktSadXzshW",
        "colab_type": "text"
      },
      "source": [
        "Aus rein optischen Gründen (wir sind ja Nerds) sortieren wir die Spalten etwas um. Zur Sache tut das nichts..."
      ]
    },
    {
      "cell_type": "code",
      "metadata": {
        "scrolled": false,
        "id": "9KQX_2APoIQp",
        "colab_type": "code",
        "colab": {}
      },
      "source": [
        "# Reorganisation der Spaltenreihenfolge\n",
        "DatenQuelle = DatenQuelle[['Datum', 'Tag', 'Fahrten', 'Tageslaenge', 'ist_Werktag', 'Temperatur', 'Niederschlag']]"
      ],
      "execution_count": 0,
      "outputs": []
    },
    {
      "cell_type": "markdown",
      "metadata": {
        "id": "3hRj54Kyz1ra",
        "colab_type": "text"
      },
      "source": [
        "Jetzt gucken wir mal auf die grundlegende Statistik der Tabelle:"
      ]
    },
    {
      "cell_type": "code",
      "metadata": {
        "scrolled": false,
        "id": "w20wBCzjoIQr",
        "colab_type": "code",
        "colab": {}
      },
      "source": [
        "# Grundlegende Statistik von 'DatenQuelle'\n",
        "DatenQuelle.describe(include='all').T"
      ],
      "execution_count": 0,
      "outputs": []
    },
    {
      "cell_type": "markdown",
      "metadata": {
        "id": "c7En-nXgz_Tm",
        "colab_type": "text"
      },
      "source": [
        "Wie ein ganzes Stück weiter oben bereits beschrieben, fehlen wohl ein paar Daten in einzelnen Reihen/Spalten. Der \"count\", der zählt, wieviele Daten in einer Spalte sind, ist bei \"Datum\" bei 2.432 und bei \"Temperatur\" \"nur\" bei 2.252.\n",
        "\n",
        "Das ist für die meisten Algorithmen des Maschinellen Lernens sehr ungünstig. Da wir aber dennoch ziemlich viele komplette Datensätze zu haben scheinen, können wir es uns leisten, die fehlenden einfach zu löschen:"
      ]
    },
    {
      "cell_type": "code",
      "metadata": {
        "scrolled": false,
        "id": "PpAZohJWoIQs",
        "colab_type": "code",
        "colab": {}
      },
      "source": [
        "# Löschen aller Reihen die \n",
        "# keine Werte in einer oder mehreren Spalten enthalten\n",
        "DatenQuelle.dropna(inplace=True)"
      ],
      "execution_count": 0,
      "outputs": []
    },
    {
      "cell_type": "markdown",
      "metadata": {
        "id": "1lavuUFy06mq",
        "colab_type": "text"
      },
      "source": [
        "Jetzt gucken wir uns nochmals die Statistik an:"
      ]
    },
    {
      "cell_type": "code",
      "metadata": {
        "scrolled": false,
        "id": "cvEzqo6RoIQv",
        "colab_type": "code",
        "colab": {}
      },
      "source": [
        "# Grundlegende Statistik von 'DatenQuelle'\n",
        "DatenQuelle.describe(include='all').T"
      ],
      "execution_count": 0,
      "outputs": []
    },
    {
      "cell_type": "markdown",
      "metadata": {
        "id": "BVkBKWL61DgT",
        "colab_type": "text"
      },
      "source": [
        "Ok, wir haben 2.251 vollständige Datensätze. Damit lässt sich arbeiten!"
      ]
    },
    {
      "cell_type": "markdown",
      "metadata": {
        "id": "W5X8TLmX1M38",
        "colab_type": "text"
      },
      "source": [
        "Um einen besseren Überblick über die Daten zu bekommen, wären grafische Dastellungen nicht schlecht.\n",
        "\n",
        "Zum Glück geht das - wenn man weiß wie - mit ganz wenig Aufwand! Und schickt ist es auch noch! Und interaktiv, da man mit der Maus über die Grafik fahren kann und sogar die Zahlenwerte der Datenpunkte angezeigt bekommt!"
      ]
    },
    {
      "cell_type": "code",
      "metadata": {
        "id": "JZUWNNnSKaS9",
        "colab_type": "code",
        "colab": {}
      },
      "source": [
        "# Erzeugen einer Grafik für die Fahren im zeitlichen Verlauf\n",
        "alt.Chart(\n",
        "    data=DatenQuelle, \n",
        "    width=600\n",
        ").mark_point(\n",
        "    size=2\n",
        ").encode(\n",
        "    x='Datum',\n",
        "    y='Fahrten',\n",
        "    tooltip=list(DatenQuelle.columns)\n",
        ")"
      ],
      "execution_count": 0,
      "outputs": []
    },
    {
      "cell_type": "markdown",
      "metadata": {
        "id": "_F_Z7dIp1vp5",
        "colab_type": "text"
      },
      "source": [
        "Wer will da noch Excel nutzen?? \n",
        "\n",
        "Wir können  das sogar noch automatisieren, da wir diese Grafik nun zig-mal und mit weiteren Optionen variieren werden. Da das aber dann doch ziemlich technisch ist, klappen wir die Details mal weg..."
      ]
    },
    {
      "cell_type": "code",
      "metadata": {
        "scrolled": false,
        "id": "ZSFmHP9loIQy",
        "colab_type": "code",
        "cellView": "form",
        "colab": {}
      },
      "source": [
        "#@title Weggeklappt: Funktion zur Erzeugung einer Grafik für eine Variable im zeitlichen Verlauf\n",
        "def Grafik_Verlauf(Abhaengige_Variable='Fahrten', \n",
        "                   DatenQuelle=DatenQuelle, \n",
        "                   # Variablen für die optionale \n",
        "                   # weitere Variation der Grafiken\n",
        "                   # (wird später benutzt)\n",
        "                   Glaettungsfenster=None, \n",
        "                   Auswahlfilter=None, \n",
        "                   bereinigter_Trend=False):\n",
        "    \n",
        "    # Falls 'Glaettungsfenster' durch eine positive, ganze Zahl definiert ist,\n",
        "    # wir ein Liniendiagramm mit über dieser Anzahl von Tagen\n",
        "    # gemittelten Daten zurückgegeben.\n",
        "    if Glaettungsfenster:\n",
        "        \n",
        "        Grafik_Verlauf = alt.Chart(\n",
        "            data=DatenQuelle,\n",
        "            width=600, height=300\n",
        "        ).mark_line(\n",
        "            color='orange', size=2\n",
        "        ).transform_window(\n",
        "            Gelaettete_Variable='mean('+ Abhaengige_Variable + ')',\n",
        "            frame=[0, Glaettungsfenster]\n",
        "        ).encode(\n",
        "            x=alt.X('Datum:T',\n",
        "                    axis=alt.Axis(title=None)),\n",
        "            y=alt.Y('Gelaettete_Variable:Q',\n",
        "                    axis=alt.Axis(title=None)\n",
        "                   )\n",
        "        ).properties(\n",
        "            title='Zeitlicher Verlauf von ' + Abhaengige_Variable + \\\n",
        "            ' (inkl. ' + str(Glaettungsfenster) + '-Tage-Glaettung)'\n",
        "        )\n",
        "      \n",
        "    # Sonst wird ein Punktdiagramm mit allen Datenpunkten zurückgegeben.\n",
        "    # Dabei kann ggf. auch noch eine Linie für die Trendgerade gezeichnet\n",
        "    # werden (wird später genutzt).\n",
        "    else:\n",
        "        \n",
        "        Grafik_Verlauf = alt.Chart(\n",
        "            data=DatenQuelle,\n",
        "            width=600, height=300\n",
        "        ).mark_point(\n",
        "            size=2\n",
        "        ).encode(\n",
        "            x=alt.X('Datum',\n",
        "                    axis=alt.Axis(title=None)),\n",
        "            y=alt.Y(Abhaengige_Variable,\n",
        "                    axis=alt.Axis(title=None)),\n",
        "            tooltip=list(DatenQuelle.columns)\n",
        "        ).properties(\n",
        "            title='Zeitlicher Verlauf von ' + Abhaengige_Variable\n",
        "        )\n",
        "        \n",
        "        # Falls ein Auswahlfilter gegeben ist,\n",
        "        # kann durch Überstreichen der Daten die Auswahl\n",
        "        # in verschiedenen Diagrammen hervorgehoben werden.\n",
        "        if Auswahlfilter:\n",
        "            \n",
        "            Grafik_Verlauf = Grafik_Verlauf.encode(\n",
        "                color=alt.condition(Auswahlfilter,\n",
        "                                    alt.ColorValue('#1f77b4'), \n",
        "                                    alt.ColorValue('lightgrey'))\n",
        "            ).add_selection(Auswahlfilter)\n",
        "        \n",
        "        # Falls eine Trendvariable gegeben ist,\n",
        "        # wird dem Diagramm eine Trendlinie hinzugefügt\n",
        "        # (wird später genutzt).\n",
        "        Trendvariable = 'Trend_' + Abhaengige_Variable + '_iAv_Tag'\n",
        "        \n",
        "        if Trendvariable in DatenQuelle.columns:\n",
        "            \n",
        "            Grafik_Trend = alt.Chart(\n",
        "                data=DatenQuelle\n",
        "            ).mark_line(\n",
        "                color='red', size=2\n",
        "            ).encode(\n",
        "                x=alt.X('Datum'),\n",
        "                y=alt.Y(Trendvariable)\n",
        "            )\n",
        "            \n",
        "            Grafik_Verlauf = Grafik_Verlauf + Grafik_Trend\n",
        "        \n",
        "        if bereinigter_Trend:\n",
        "          \n",
        "            bereinigte_Trendvariable = 'Residualer_Trend_' \\\n",
        "            + Abhaengige_Variable + '_iAv_Tag'\n",
        "            \n",
        "            if bereinigte_Trendvariable in DatenQuelle.columns:\n",
        "                            \n",
        "                Grafik_bereinigter_Trend = alt.Chart(\n",
        "                    data=DatenQuelle\n",
        "                    ).mark_line(\n",
        "                    color='green', size=2\n",
        "                    ).encode(\n",
        "                    x=alt.X('Datum'),\n",
        "                    y=alt.Y(bereinigte_Trendvariable)\n",
        "                    )\n",
        "            \n",
        "                Grafik_Verlauf = Grafik_Verlauf + Grafik_bereinigter_Trend\n",
        "        \n",
        "    return Grafik_Verlauf"
      ],
      "execution_count": 0,
      "outputs": []
    },
    {
      "cell_type": "markdown",
      "metadata": {
        "id": "QyRLcYTE2jPs",
        "colab_type": "text"
      },
      "source": [
        "Jetzt lässt sich das Ganze noch schneller bewerkstelligen;"
      ]
    },
    {
      "cell_type": "code",
      "metadata": {
        "scrolled": false,
        "id": "VrW2Ln5PoIQz",
        "colab_type": "code",
        "colab": {}
      },
      "source": [
        "# Zeigen des zeitlichen Verlaufs von 'Fahrten'\n",
        "Grafik_Verlauf('Fahrten')"
      ],
      "execution_count": 0,
      "outputs": []
    },
    {
      "cell_type": "markdown",
      "metadata": {
        "id": "SWKcG06V2MyT",
        "colab_type": "text"
      },
      "source": [
        "Aber was sehen wir?\n",
        "\n",
        "Die Daten zeigen eine Saisonalität im Jahresverlauf, sind aber ziemlich gestreut. Vielleicht wird's etwas übersichtlicher, wenn wir die Daten mal jeweils über eine Woche mitteln - auch das lässt unsere Hilfsfunktion zu:"
      ]
    },
    {
      "cell_type": "code",
      "metadata": {
        "scrolled": false,
        "id": "0aDcZHvtoIQ1",
        "colab_type": "code",
        "colab": {}
      },
      "source": [
        "# Zeigen des zeitlichen Verlaufs von 'Fahren' über 7 Tage geglättet\n",
        "Grafik_Verlauf('Fahrten', Glaettungsfenster=7)"
      ],
      "execution_count": 0,
      "outputs": []
    },
    {
      "cell_type": "markdown",
      "metadata": {
        "id": "vg--lLxx3JWc",
        "colab_type": "text"
      },
      "source": [
        "Noch netter wäre es, wenn wir beides übereinander legen könnten...\n",
        "\n",
        "Und das können wir sehr einfach:"
      ]
    },
    {
      "cell_type": "code",
      "metadata": {
        "scrolled": false,
        "id": "cQWaq_gsoIQ4",
        "colab_type": "code",
        "colab": {}
      },
      "source": [
        "# Zeigen des zeitlichen Verlaufs, sowohl \"roh\", als auch geglättet\n",
        "Grafik_Verlauf('Fahrten', Glaettungsfenster=7) + Grafik_Verlauf('Fahrten')"
      ],
      "execution_count": 0,
      "outputs": []
    },
    {
      "cell_type": "markdown",
      "metadata": {
        "id": "R2EC3S7q3U2z",
        "colab_type": "text"
      },
      "source": [
        "Wir sehen also recht deutlich eine sehr hohe Schwankungsbreite um den geglätteten Wert.\n",
        "\n",
        "Wenn man über die Grafik fährt und sich interaktiv anguckt, welche Datenpunkte unter bzw. über der \"Glättung\" liegen, so fällt auf das die darunter sehr oft auf ein Wochenende (\"ist_Werktag\" = \"0\") fallen. Interessant... Und gut das wir diese Information in der Tabelle haben und nutzen können."
      ]
    },
    {
      "cell_type": "markdown",
      "metadata": {
        "id": "yz7agcQw3_FZ",
        "colab_type": "text"
      },
      "source": [
        "#### *Do-It-Yourself: Zeigen von Verlaufsgrafiken*\n",
        "\n",
        "Wer Bock hat, kann hier die Funktion \"Grafik_Verlauf\" auch mal auf andere Größen der Tabelle anwenden:"
      ]
    },
    {
      "cell_type": "code",
      "metadata": {
        "id": "YxbzZZn04Tlz",
        "colab_type": "code",
        "colab": {}
      },
      "source": [
        "# Zeigen des zeitlichen Verlaufs (\"roh\" und/oder geglättet) für beliebige Spalten aus der \"DatenQuelle\"\n",
        "\n",
        "# DO-IT-YOURSELF"
      ],
      "execution_count": 0,
      "outputs": []
    },
    {
      "cell_type": "markdown",
      "metadata": {
        "id": "-hWvD7B340rf",
        "colab_type": "text"
      },
      "source": [
        "Nun sollten wir uns aber auch mal das Verhältnis der Daten untereinander (abseits des \"Datums\") angucken. Hochtrabend gesprochen: wie sind die Spalten miteinander korreliert.\n",
        "\n",
        "Pandas hat eine eine einfache Funktion:"
      ]
    },
    {
      "cell_type": "code",
      "metadata": {
        "id": "0qNNBst643Pa",
        "colab_type": "code",
        "colab": {}
      },
      "source": [
        "# Zeigen der Korrelationen der Datenspalten von \"DatenQuelle\" untereinander\n",
        "DatenQuelle.corr()"
      ],
      "execution_count": 0,
      "outputs": []
    },
    {
      "cell_type": "markdown",
      "metadata": {
        "id": "jFAjqwTG5lw9",
        "colab_type": "text"
      },
      "source": [
        "Wir sehen beispielsweise eine leicht positive Korrelation von Fahrten mit der Tageslänge (nehmen die Fahren tatsächlich zu?).\n",
        "Und wir sehen eine sehr hohe Korrelation zwischen Tageslaenge und Temperatur. Kann man sich ja denken, dass es im Winter in Seattle dunkler und kälter ist als im Sommer... aber 1:1 ist die Korrelation natürlich auch nicht."
      ]
    },
    {
      "cell_type": "markdown",
      "metadata": {
        "id": "WEX0buVl5fbq",
        "colab_type": "text"
      },
      "source": [
        "Dennoch: ein Bild sagt den meisten mehr als 1.000 Worte, insbesondere wenn es interaktiv ist:\n",
        "\n",
        "Das ist schnell gebaut:"
      ]
    },
    {
      "cell_type": "code",
      "metadata": {
        "id": "jgvdjUratbKn",
        "colab_type": "code",
        "colab": {}
      },
      "source": [
        "# Zeigen einer Streugrafik für Fahren in Abhängigkeit der Tageslänge\n",
        "alt.Chart(\n",
        "    data=DatenQuelle,\n",
        "    width=263\n",
        ").mark_point(\n",
        "    size=1\n",
        ").encode(\n",
        "    x=alt.X('Tageslaenge',\n",
        "            scale=alt.Scale(zero=False)),\n",
        "    y=alt.Y('Fahrten',\n",
        "            scale=alt.Scale(zero=False)),\n",
        "    tooltip=list(DatenQuelle.columns)\n",
        ")"
      ],
      "execution_count": 0,
      "outputs": []
    },
    {
      "cell_type": "markdown",
      "metadata": {
        "id": "htCWhAeS6Kzj",
        "colab_type": "text"
      },
      "source": [
        "Auch das wollen wir automatisieren, da wir diese Grafik nun auch zig-mal und mit weiteren Optionen genutzt werden wird. Auch das ist ziemlich technisch und auch hier  klappen wir die Details weg..."
      ]
    },
    {
      "cell_type": "code",
      "metadata": {
        "scrolled": false,
        "id": "2IDagWCToIQ5",
        "colab_type": "code",
        "cellView": "form",
        "colab": {}
      },
      "source": [
        "#@title Weggeklappt: Funktion zur Erzeugung einer Streugrafik \n",
        "# für eine abhängige Variable gegenüber einer unabhängigen\n",
        "def Grafik_Streuung(Unabhaengige_Variable, \n",
        "                    Abhaengige_Variable='Fahrten',\n",
        "                    DatenQuelle=DatenQuelle,\n",
        "                    # Variablen für die optionale \n",
        "                    # weitere Variation der Grafiken\n",
        "                    # (wird später benutzt)\n",
        "                    Auswahlfilter=None):\n",
        "    \n",
        "    Grafik_Streuung = alt.Chart(\n",
        "        data=DatenQuelle,\n",
        "        width=263, height=263\n",
        "    ).mark_point(\n",
        "        size=1\n",
        "    ).encode(\n",
        "        x=alt.X(Unabhaengige_Variable,\n",
        "                scale=alt.Scale(zero=False)),\n",
        "        y=alt.Y(Abhaengige_Variable,\n",
        "                scale=alt.Scale(zero=False)),\n",
        "        tooltip=list(DatenQuelle.columns)\n",
        "    )\n",
        "    \n",
        "    # Falls ein Auswahlfilter gegeben ist,\n",
        "    # kann durch Überstreichen der Daten die Auswahl\n",
        "    # in verschiedenen Diagrammen hervorgehoben werden.\n",
        "    \n",
        "    if Auswahlfilter:\n",
        "        \n",
        "        Grafik_Streuung = Grafik_Streuung.encode(\n",
        "            color=alt.condition(Auswahlfilter,\n",
        "                                alt.ColorValue('#1f77b4'), alt.ColorValue('lightgrey'))\n",
        "        ).add_selection(Auswahlfilter)\n",
        "    \n",
        "    # Falls eine Trendvariable gegeben ist,\n",
        "    # wird dem Diagramm eine Trendlinie hinzugefügt\n",
        "    # (wird später genutzt).\n",
        "    Trendvariable = 'Trend_' + Abhaengige_Variable + '_iAv_' + Unabhaengige_Variable\n",
        "    \n",
        "    if Trendvariable in DatenQuelle.columns:\n",
        "        \n",
        "        Grafik_Trend = alt.Chart(\n",
        "            data=DatenQuelle\n",
        "        ).mark_line(\n",
        "            color='red', size=2\n",
        "        ).encode(\n",
        "            x=alt.X(Unabhaengige_Variable),\n",
        "            y=alt.Y(Trendvariable,\n",
        "                    axis=alt.Axis(title=Abhaengige_Variable + ' (mit Trendlinie)'))\n",
        "        )\n",
        "        \n",
        "        Grafik_Streuung = Grafik_Streuung + Grafik_Trend\n",
        "    \n",
        "    return Grafik_Streuung"
      ],
      "execution_count": 0,
      "outputs": []
    },
    {
      "cell_type": "markdown",
      "metadata": {
        "id": "Wu7kAgoU6fj5",
        "colab_type": "text"
      },
      "source": [
        "So nun ganz kurz:"
      ]
    },
    {
      "cell_type": "code",
      "metadata": {
        "scrolled": false,
        "id": "DRR4hdKxoIQ7",
        "colab_type": "code",
        "colab": {}
      },
      "source": [
        "# Zeigen einer Streugrafik von 'Fahrten' in abhängigkeit von 'Tageslänge'\n",
        "Grafik_Streuung('Tageslaenge', 'Fahrten')"
      ],
      "execution_count": 0,
      "outputs": []
    },
    {
      "cell_type": "markdown",
      "metadata": {
        "id": "Z0a5Bvxi7RDW",
        "colab_type": "text"
      },
      "source": [
        "#### *Do-It-Yourself: Zeigen von Streugrafiken*\n",
        "\n",
        "Auch hier: wer Lust hat, kann hier die Funktion \"Grafik_Streuung\" auch mal auf andere Größenpaare der Tabelle anwenden:"
      ]
    },
    {
      "cell_type": "code",
      "metadata": {
        "id": "QpVo7eQ_7i5c",
        "colab_type": "code",
        "colab": {}
      },
      "source": [
        "# Zeigen des der Steuung zweier beliebiger Spalten aus der \"DatenQuelle\"\n",
        "\n",
        "# DO-IT-YOURSELF"
      ],
      "execution_count": 0,
      "outputs": []
    },
    {
      "cell_type": "markdown",
      "metadata": {
        "id": "BdaAX4Zx70T7",
        "colab_type": "text"
      },
      "source": [
        "Zum guten Schluss bauen wir uns mit Hilfe der anderen Hilfsfunktionen eine Funktion zum Zeigen von Übersichtsgrafiken, bei denen wir sogar in jeder Untergrafik einen Bereich von Punkten auswählen können und sehen, wo diese Punkte in den anderen Untergrafiken liegen. Cool, oder? Und hilft ggf. weiter dabei Zusammenhänge zu erkennen.\n",
        "\n",
        "Der Programmcode dafür ist allerdings wieder etwas technisch und wird wieder \"weggeklappt\".\n",
        "\n"
      ]
    },
    {
      "cell_type": "code",
      "metadata": {
        "scrolled": false,
        "id": "ScZUmxpjoIQ8",
        "colab_type": "code",
        "cellView": "form",
        "colab": {}
      },
      "source": [
        "#@title Weggeklappt: Funktion zur Erzeugung einer interaktiven Übersichtsgrafik\n",
        "def Grafik_Uebersicht(Abhaengige_Variable='Fahrten',\n",
        "                      DatenQuelle=DatenQuelle, \n",
        "                      bereinigter_Trend=False):\n",
        "    \n",
        "    # Setzen eines Auswahlfilters\n",
        "    Auswahlfilter = alt.selection(type='interval', resolve='global')\n",
        "    \n",
        "    # Erzeugung und Kombination von Verlaufs und Streugrafiken\n",
        "    # (ggf. auch mit Trendlinien)\n",
        "    Oben = Grafik_Verlauf(Abhaengige_Variable=Abhaengige_Variable, \n",
        "                          DatenQuelle=DatenQuelle, \n",
        "                          Glaettungsfenster=7) \\\n",
        "         + Grafik_Verlauf(Abhaengige_Variable=Abhaengige_Variable,\n",
        "                          DatenQuelle=DatenQuelle,\n",
        "                          Auswahlfilter=Auswahlfilter, \n",
        "                          bereinigter_Trend=bereinigter_Trend)\n",
        "    \n",
        "    Links = Grafik_Streuung('Tageslaenge',\n",
        "                            Abhaengige_Variable=Abhaengige_Variable, \n",
        "                            DatenQuelle=DatenQuelle,                            \n",
        "                            Auswahlfilter=Auswahlfilter) \\\n",
        "          & Grafik_Streuung('ist_Werktag',\n",
        "                            Abhaengige_Variable=Abhaengige_Variable, \n",
        "                            DatenQuelle=DatenQuelle,\n",
        "                            Auswahlfilter=Auswahlfilter)\n",
        "    \n",
        "    Rechts = Grafik_Streuung('Temperatur',\n",
        "                            Abhaengige_Variable=Abhaengige_Variable, \n",
        "                            DatenQuelle=DatenQuelle,\n",
        "                            Auswahlfilter=Auswahlfilter) & \\\n",
        "             Grafik_Streuung('Niederschlag',\n",
        "                            Abhaengige_Variable=Abhaengige_Variable, \n",
        "                            DatenQuelle=DatenQuelle,\n",
        "                            Auswahlfilter=Auswahlfilter)\n",
        "    \n",
        "    Grafik_Uebersicht = Oben & (Links | Rechts)\n",
        "    \n",
        "    return Grafik_Uebersicht"
      ],
      "execution_count": 0,
      "outputs": []
    },
    {
      "cell_type": "code",
      "metadata": {
        "scrolled": false,
        "id": "QxCcg7IhoIQ9",
        "colab_type": "code",
        "colab": {}
      },
      "source": [
        "# Zeigen einer interaktiven Übersichtgrafik\n",
        "Grafik_Uebersicht()    "
      ],
      "execution_count": 0,
      "outputs": []
    },
    {
      "cell_type": "markdown",
      "metadata": {
        "id": "HLPNBSSH9dXh",
        "colab_type": "text"
      },
      "source": [
        "Wir sehen nun ziemlich transparent einige Zusammenhänge:\n",
        "- Im Jahresverkauf haben die Fahrten eine hohe Saisonalität, mit einer hohen Streuung.\n",
        "- Mit steigender Tageslänge oder steigender Temperatur, steigt tendenziell die Zahl der Fahrten.\n",
        "- In der Woche wird tendenziell deutlich mehr gefahren, als am Wochenende\n",
        "- Mit steigendem Niederschlag wird tendenziell weniger gefahren, wobei es durchaus Tage mit erheblichem Niederschlag gibt, an denen gar nicht so wenig gefahren wird.\n",
        "\n",
        "Es sieht aus, als ließe sich bereits eine Menge klären, wenn wir diese Tendenzen nur etwas besser beschreiben könnten.\n",
        "\n",
        "Zum Beispiel, indem wir Geraden durch die Diagramme ziehen?\n",
        "\n",
        "Geraden? Das kann man doch modellieren! **Hat das nicht mit \"Linearer Regression\" zu tun?**\n",
        "\n",
        "\n",
        "Let's go!"
      ]
    },
    {
      "cell_type": "markdown",
      "metadata": {
        "id": "868cLigHoIQ-",
        "colab_type": "text"
      },
      "source": [
        "## Modellierung der Daten *(Modelling)*"
      ]
    },
    {
      "cell_type": "markdown",
      "metadata": {
        "id": "U56COC6R-3qn",
        "colab_type": "text"
      },
      "source": [
        "Wir wollen unsere Daten also mit Linearer Regression modellieren. Dazu sollten wir dann aber doch vorab ein bisschen was erläutern:"
      ]
    },
    {
      "cell_type": "markdown",
      "metadata": {
        "id": "jTFBP49DoIQ-",
        "colab_type": "text"
      },
      "source": [
        "### Lineare Regression - eine kurze Einführung"
      ]
    },
    {
      "cell_type": "markdown",
      "metadata": {
        "id": "j4jyDYDDhGOu",
        "colab_type": "text"
      },
      "source": [
        "Was eine **lineare Regression** ist, ist leicht beschrieben und gut vorstellbar:  \n",
        "Bei einer linearen Regression legen wir eine Gerade durch eine der Punktwolken, so dass der (quadratische) Abstand zu den Punkten möglichst gering wird. Manchmal hat man das Gefühl, sogar gut sehen zu können, wo diese Gerade etwa liegen müsste.  \n",
        "Im Ergebnis können wir mit dieser Gerade zu jedem \"unabhängigen\" Eingangs-Wert (bspw. dem Tag) einen \"abhängigen\" Ergebnis-Wert (z.B. Anzahl der Fahren) auf der Gerade finden, der einen möglichst geringen Abstand zum echten Ausgangswert des abhängigen Variable hat. Wir können damit mit einer Sicherheit im Rahmen der Abstands-Fehlertoleranz z.B. vorhersagen und wir wissen, ob und wie sich die Anzahl der Fahrten im Laufe der Zeit verändert.\n",
        "\n",
        "Mathematisch ist das ganze natürlich ein wenig komplex (vor allem falls man keinen Kurs in Linearer Algebra besucht hat oder alles von damals vergessen hat). Es gibt viele Erklärtexte und Videos im Netz dazu.  Wer an dieser Stelle etwas Zeit und insbesondere Lust hat, kann sich ja mal das folgende angucken:  \n",
        "\n",
        "*Für das weitere nötig ist das allerdings nicht!*"
      ]
    },
    {
      "cell_type": "markdown",
      "metadata": {
        "id": "7wM43JMwSF10",
        "colab_type": "text"
      },
      "source": [
        "\n",
        "<a href=\"https://www.youtube.com/watch?v=nk2CQITm_eo\" target=\"_blank\"><img src=\"http://img.youtube.com/vi/nk2CQITm_eo/0.jpg\" alt=\"Video Erklärung Lineare Regression\" width=\"600\" height=\"400\" border=\"0\" /></a>"
      ]
    },
    {
      "cell_type": "markdown",
      "metadata": {
        "id": "fNH7p2Teb5kQ",
        "colab_type": "text"
      },
      "source": [
        "Weniger vorstellbar wird es im Fall einer **multi-linearen Regression**:   \n",
        "\n",
        "Hier versuchen wir eine Ebene durch eine höherdimensionale Punktwolke zu finden. Beispielsweise könnten wir eine drei-dimensionale Punktwolke mit den \"unabhängigen\" Eingangs-Variablen Tageslänge und Temperatur und der \"abhängigen\" Ergebnis-Variable \"Fahrten\" haben und wollen eine Ebene finden, die möglichst gut reinpasst. Diese erlaubt dann Vorhersagen über die Anzahl der Fahren, wenn wir Temperatur und Tageslänge kennen. Das ganze geht aber auch mit x Dimensionen. Mathematisch ist da kein Unterschied, nur anschaulich vorstellbar ist das dann nicht mehr...  \n",
        "\n",
        "Zum Glück kann die Programmbibliothek von Scikit-Learn mit sehr wenigen Programmzeilen das Ganze für uns berechnen. Wir machen das mal für Fahrten in Abhängigkeit vom Tag, das wollen wir ja ohnehin untersuchen!"
      ]
    },
    {
      "cell_type": "code",
      "metadata": {
        "id": "iBUOVSfUb1OV",
        "colab_type": "code",
        "colab": {}
      },
      "source": [
        "# Kopieren der 'DatenQuelle' in eine \n",
        "# neue Datentabelle 'Daten_LR_Modell'\n",
        "# (um die DatenQuelle nicht zu verändern):\n",
        "Daten_LR_Modell = DatenQuelle.copy()\n",
        "\n",
        "# Bestimmen der Variablen\n",
        "Abhaengige_Variable = DatenQuelle['Fahrten']\n",
        "Unabhaengige_Variable = DatenQuelle [['Tag']]\n",
        "\n",
        "# Erzeugen eines noch \"leeren\" Modells\n",
        "LR_Modell = LinearRegression().fit(Unabhaengige_Variable, Abhaengige_Variable)"
      ],
      "execution_count": 0,
      "outputs": []
    },
    {
      "cell_type": "markdown",
      "metadata": {
        "id": "_PMlw91inF4t",
        "colab_type": "text"
      },
      "source": [
        "Das war's eigentlich schon! Aber was sagt uns das?  \n",
        "\n",
        "Wir können damit nun zu jeden Tag den Wert von Fahrten auf der Geraden finden! Und zwar ganz einfach. So zum Beispiel für den Tag mit der Nummer 1_000"
      ]
    },
    {
      "cell_type": "code",
      "metadata": {
        "id": "YkVwxBQxoIwX",
        "colab_type": "code",
        "colab": {}
      },
      "source": [
        "# Berechnen der Vorhersagewertes für den Tag 1.000\n",
        "LR_Modell.predict(np.array([[1_000]]))"
      ],
      "execution_count": 0,
      "outputs": []
    },
    {
      "cell_type": "markdown",
      "metadata": {
        "id": "CIl1vNpWqB_M",
        "colab_type": "text"
      },
      "source": [
        "Nur weil Scikit-Learn für mehrdimensionale Werte gemacht ist, sieht die eingabe mit diesem \"np.array\" etwas komisch aus. Aber sonst doch easy, oder?  \n",
        "Wie verhält sich das nun zum \"echten wahren\" gemessenen Wert?"
      ]
    },
    {
      "cell_type": "code",
      "metadata": {
        "id": "oP2wmKrkrQkf",
        "colab_type": "code",
        "colab": {}
      },
      "source": [
        "# Überprüfen des Modells anhand des tatsächlichen Wertes für Tag 1.000\n",
        "Daten_LR_Modell[Daten_LR_Modell['Tag'] == 1_000]['Fahrten']"
      ],
      "execution_count": 0,
      "outputs": []
    },
    {
      "cell_type": "markdown",
      "metadata": {
        "id": "c7-4qjvyrprn",
        "colab_type": "text"
      },
      "source": [
        "Na nicht ganz so super... Jetzt gucken wir aber mal wie das für alle Tage aussieht und berechnen den \"Trend\" der Fahren in Abhängigkeit vom Tag erstmal für alle Tage:"
      ]
    },
    {
      "cell_type": "code",
      "metadata": {
        "id": "noM83ewkryRm",
        "colab_type": "code",
        "colab": {}
      },
      "source": [
        "# Berechnen des Vorhersagewertes für alle Tage\n",
        "Daten_LR_Modell['Trend_Fahrten_iAv_Tag'] = LR_Modell.predict(Daten_LR_Modell[['Tag']])"
      ],
      "execution_count": 0,
      "outputs": []
    },
    {
      "cell_type": "markdown",
      "metadata": {
        "id": "Sk1Cd12RsVqY",
        "colab_type": "text"
      },
      "source": [
        "Um das zu veranschaulichen machen wir mal eine Grafik (unsere Funktion 'Grafik_Verlauf' kann das schon ;-)):"
      ]
    },
    {
      "cell_type": "code",
      "metadata": {
        "id": "tkYlrTvgsPVh",
        "colab_type": "code",
        "colab": {}
      },
      "source": [
        "# Zeigen der Verlaufsgrafik mit Trendlinie\n",
        "Grafik_Verlauf(DatenQuelle=Daten_LR_Modell)"
      ],
      "execution_count": 0,
      "outputs": []
    },
    {
      "cell_type": "markdown",
      "metadata": {
        "id": "Y14A3BpwuJfY",
        "colab_type": "text"
      },
      "source": [
        "Gucken wir uns mal die Statistik dazu an, wofür wir uns zunächst eine Hilffunktion basteln (die nicht verstanden werden muss):"
      ]
    },
    {
      "cell_type": "code",
      "metadata": {
        "id": "R2cfRUSmuPFJ",
        "colab_type": "code",
        "cellView": "form",
        "colab": {}
      },
      "source": [
        "#@title Weggeklappt: Funktion zur Ausgabe der Statistik der Linearen Regression\n",
        "\n",
        "\n",
        "# Hier nur als Abkürzung um die allgemein formulierte Statistik und \n",
        "# weiteren Funktionen erzeugen zu können...\n",
        "LR_Modell.Residualer_Trend = None\n",
        "Daten_LR_Modell['Trend'] = Daten_LR_Modell['Trend_Fahrten_iAv_Tag']\n",
        "Liste_Unabhaengige_Regressionsvariablen = ['Tag']\n",
        "\n",
        "# Eigentliche Funktion\n",
        "def Statistik(Liste_Unabhaengige_Regressionsvariablen=Liste_Unabhaengige_Regressionsvariablen,\n",
        "              Abhaengige_Regressionsvariable='Fahrten', \n",
        "              Daten_LR_Modell=Daten_LR_Modell, \n",
        "              LR_Modell=LR_Modell):\n",
        "    \n",
        "    # Ermittlung der Steigungen aus dem LR_Modell\n",
        "    Steigung = LR_Modell.coef_\n",
        "    \n",
        "    # Errechnung der Fehlergrößen aus den Daten_LR_Modell\n",
        "    # (da nicht im LR_Modell verfügbar)\n",
        "    y = Daten_LR_Modell[Abhaengige_Regressionsvariable]\n",
        "    y_trend = Daten_LR_Modell['Trend']\n",
        "    X = Daten_LR_Modell[Liste_Unabhaengige_Regressionsvariablen]\n",
        "    \n",
        "    var_y = np.sum((y - y_trend) ** 2) / len(y)\n",
        "    X2 = np.hstack([X, np.ones((X.shape[0], 1))])\n",
        "    C = var_y * np.linalg.inv(np.dot(X2.T, X2))\n",
        "    var = C.diagonal()\n",
        "    \n",
        "    Fehler = np.sqrt(var[:])\n",
        "    \n",
        "    # Ausgabe der Statistikwerte für alle \n",
        "    # unabhaengigen Regressionsvariablen\n",
        "    \n",
        "    print('Statistik des linearen Regressionsmodells:')\n",
        "    \n",
        "    for Zaehler, Unabhaengige_Regressionsvariable \\\n",
        "    in enumerate(Liste_Unabhaengige_Regressionsvariablen):\n",
        "        \n",
        "        print('\\t{0:.2f} +/- {1:.2f}'.format(Steigung[Zaehler], Fehler[Zaehler]), \n",
        "              Abhaengige_Regressionsvariable, \n",
        "              'je Einheit', \n",
        "              Unabhaengige_Regressionsvariable)\n",
        "        \n",
        "    print('')\n",
        "        \n",
        "    if LR_Modell.Residualer_Trend:\n",
        "      \n",
        "        Abhaengige_Residualvariable = 'Residualer_Trend_' + Abhaengige_Regressionsvariable + '_trendbereinigt_iAv_Tag'\n",
        "        \n",
        "        y = Daten_LR_Modell['Trend']\n",
        "        y_trend = Daten_LR_Modell[Abhaengige_Residualvariable]\n",
        "        X = Daten_LR_Modell[['Tag']]\n",
        "        \n",
        "    \n",
        "        var_y = np.sum((y - y_trend) ** 2) / len(y)\n",
        "        X2 = np.hstack([X, np.ones((X.shape[0], 1))])\n",
        "        C = var_y * np.linalg.inv(np.dot(X2.T, X2))\n",
        "        var = C.diagonal()\n",
        "    \n",
        "        Fehler = np.sqrt(var[:])\n",
        "        \n",
        "        print('Nach Bereinigung obiger Variablen:')\n",
        "        print('\\tBereinigt verbleibt eine Veränderung von', \n",
        "              Abhaengige_Regressionsvariable, 'i.H.v.', \n",
        "              '{0:.2f}'.format(LR_Modell.Residualer_Trend),\n",
        "             '+/-{0:.2f} je Tag'.format(Fehler[0]))\n",
        "        print('')\n",
        "              \n",
        "    return None\n",
        "  \n"
      ],
      "execution_count": 0,
      "outputs": []
    },
    {
      "cell_type": "code",
      "metadata": {
        "id": "mieMrLCKufW1",
        "colab_type": "code",
        "colab": {}
      },
      "source": [
        "# Zeigen der zusammenfassenden Statistik des Modells\n",
        "Statistik()"
      ],
      "execution_count": 0,
      "outputs": []
    },
    {
      "cell_type": "markdown",
      "metadata": {
        "id": "mZ-VX0hgsuIm",
        "colab_type": "text"
      },
      "source": [
        "Mit den Tagen nehmen die Fahrten also zu, aber die Fehlerspanne ist größer als die Steigung.\n",
        "\n",
        "Es ist auch kein Wunder, dass die Vorhersage so mies ist: die Daten streuen ja auch wie wahnsinnig...  \n",
        "\n",
        "**Wir sollten und werden die Einflüsse der anderen Variablen auf die Fahrten untersuchen und eliminieren, um dann mal zu gucken, wie die \"trendbereinigte\" Abhängigkeit von Fahrten vom Tag aussieht.**\n",
        "\n",
        "Vorher bauen wir uns aber noch ein paar Hilfsfunktionen, die das ganze Erzeugen von Modellen, Trends und Grafiken automatisieren (diese Hilfsfunktionen sind etwas komplexer um die Automatisierung zu erreichen, müssen nicht verstanden werden und sind daher weggeklappt):"
      ]
    },
    {
      "cell_type": "code",
      "metadata": {
        "scrolled": false,
        "id": "ZKsgDJsUoIRB",
        "colab_type": "code",
        "cellView": "form",
        "colab": {}
      },
      "source": [
        "#@title Weggeklappt: Funktion zur Erzeugung eines 'LR_Modells' und einer erweiterten Datentabelle 'Daten_LR_Modell'\n",
        "def LR_Modell_und_Daten(Liste_Unabhaengige_Regressionsvariablen,\n",
        "                        Abhaengige_Regressionsvariable='Fahrten',\n",
        "                        DatenQuelle=DatenQuelle):\n",
        "    \n",
        "    # Kopie der DatenQuelle, um diese Daten unverändert zu lassen\n",
        "    Daten_LR_Modell = DatenQuelle.copy()\n",
        "    \n",
        "    \n",
        "    #### Eigentliche Lineare Regression beginnt hier ####\n",
        "    \n",
        "    # Ermittlung der unabhängigen und abhängigen Daten aus der DatenQuelle\n",
        "    Daten_Unabhaengige_Regressionsvariablen = Daten_LR_Modell[Liste_Unabhaengige_Regressionsvariablen]\n",
        "    Daten_Abhaengige_Regressionsvariable = Daten_LR_Modell[Abhaengige_Regressionsvariable]\n",
        "    \n",
        "    # Ermittlung des LR_Modells\n",
        "    LR_Modell = LinearRegression(\n",
        "    ).fit(Daten_Unabhaengige_Regressionsvariablen, \n",
        "          Daten_Abhaengige_Regressionsvariable)\n",
        "    \n",
        "    # Ermittlung der Trenddaten\n",
        "    Daten_LR_Modell['Trend'] = LR_Modell.predict(Daten_Unabhaengige_Regressionsvariablen)\n",
        "    \n",
        "    #### Eigentliche Lineare Regression beginnt hier ####\n",
        "    \n",
        "    \n",
        "    # Erzeugung weiterer Daten für weitere Analysen und spätere Grafische Darstellung\n",
        "    Daten_LR_Modell[Abhaengige_Regressionsvariable+'_trendbereinigt']\\\n",
        "    = Daten_LR_Modell[Abhaengige_Regressionsvariable] \\\n",
        "    - Daten_LR_Modell['Trend'] \\\n",
        "    + Daten_LR_Modell['Trend'].mean()\n",
        "    \n",
        "    for Unabhaengige_Ceteris_Paribus_Regressionsvariable \\\n",
        "    in Liste_Unabhaengige_Regressionsvariablen:\n",
        "        \n",
        "        Ceteris_Paribus_Regressionsdatensatz = pd.DataFrame(index=Daten_LR_Modell.index)\n",
        "        \n",
        "        for Unabhaengige_Regressionsvariable in Liste_Unabhaengige_Regressionsvariablen:\n",
        "            \n",
        "            if Unabhaengige_Regressionsvariable == Unabhaengige_Ceteris_Paribus_Regressionsvariable:\n",
        "                \n",
        "                Ceteris_Paribus_Regressionsdatensatz[Unabhaengige_Ceteris_Paribus_Regressionsvariable] \\\n",
        "                = DatenQuelle[Unabhaengige_Ceteris_Paribus_Regressionsvariable]\n",
        "                \n",
        "            else:\n",
        "                \n",
        "                Ceteris_Paribus_Regressionsdatensatz[Unabhaengige_Regressionsvariable] \\\n",
        "                = DatenQuelle[Unabhaengige_Regressionsvariable].mean()\n",
        "                \n",
        "        Daten_LR_Modell['Trend_' + Abhaengige_Regressionsvariable \\\n",
        "                        + '_iAv_'+ Unabhaengige_Ceteris_Paribus_Regressionsvariable] \\\n",
        "        = LR_Modell.predict(Ceteris_Paribus_Regressionsdatensatz)\n",
        "        \n",
        "        Daten_LR_Modell['Trend_' + Abhaengige_Regressionsvariable + '_trendbereinigt'\\\n",
        "                        + '_iAv_'+ Unabhaengige_Ceteris_Paribus_Regressionsvariable] \\\n",
        "        = Daten_LR_Modell['Trend_' + Abhaengige_Regressionsvariable \\\n",
        "                        + '_iAv_'+ Unabhaengige_Ceteris_Paribus_Regressionsvariable].mean()\n",
        "    \n",
        "    if not('Tag' in Liste_Unabhaengige_Regressionsvariablen):\n",
        "    \n",
        "      Residual_LR_Modell = LinearRegression().fit(\n",
        "          Daten_LR_Modell[['Tag']],\n",
        "          Daten_LR_Modell[Abhaengige_Regressionsvariable + '_trendbereinigt']\n",
        "      )\n",
        "      \n",
        "      Daten_LR_Modell['Residualer_Trend_' + Abhaengige_Regressionsvariable + '_trendbereinigt_iAv_Tag'] \\\n",
        "      = Residual_LR_Modell.predict(Daten_LR_Modell[['Tag']])\n",
        "      \n",
        "      LR_Modell.Residualer_Trend = Residual_LR_Modell.coef_[0]\n",
        "      \n",
        "    else:\n",
        "      \n",
        "      LR_Modell.Residualer_Trend = None\n",
        "      \n",
        "    return LR_Modell, Daten_LR_Modell"
      ],
      "execution_count": 0,
      "outputs": []
    },
    {
      "cell_type": "code",
      "metadata": {
        "id": "gnMQX7tLwZ_K",
        "colab_type": "code",
        "cellView": "form",
        "colab": {}
      },
      "source": [
        "#@title Weggeklappt: Funktion zur automatischen Analyse (Grafiken und Statistikdaten)\n",
        "def Lineare_Regressionsanalyse(\n",
        "    Liste_Unabhaengige_Regressionsvariablen=Liste_Unabhaengige_Regressionsvariablen,\n",
        "    Abhaengige_Regressionsvariable='Fahrten',\n",
        "    DatenQuelle=DatenQuelle):\n",
        "  \n",
        "    # Berechnung von LR_Modell und Daten_LR_Modell  \n",
        "    LR_Modell, Daten_LR_Modell = LR_Modell_und_Daten(\n",
        "        Liste_Unabhaengige_Regressionsvariablen=Liste_Unabhaengige_Regressionsvariablen,\n",
        "        Abhaengige_Regressionsvariable=Abhaengige_Regressionsvariable,\n",
        "        DatenQuelle=DatenQuelle)\n",
        "    \n",
        "    # Erzeugung der Übersichtsgrafiken (normal und trendbereinigt)\n",
        "    Grafik_Uebersicht_normal = \\\n",
        "    Grafik_Uebersicht(Abhaengige_Variable=Abhaengige_Regressionsvariable, \n",
        "                      DatenQuelle=Daten_LR_Modell)\n",
        "    \n",
        "    Grafik_Uebersicht_trendbereinigt = \\\n",
        "    Grafik_Uebersicht(Abhaengige_Variable=Abhaengige_Regressionsvariable + '_trendbereinigt', \n",
        "                      DatenQuelle=Daten_LR_Modell, bereinigter_Trend=True)\n",
        "    \n",
        "    # Ausgabe der Statistik\n",
        "    Statistik(Liste_Unabhaengige_Regressionsvariablen=Liste_Unabhaengige_Regressionsvariablen,\n",
        "              Abhaengige_Regressionsvariable=Abhaengige_Regressionsvariable, \n",
        "              Daten_LR_Modell=Daten_LR_Modell, LR_Modell=LR_Modell)\n",
        "    \n",
        "    return Grafik_Uebersicht_normal & Grafik_Uebersicht_trendbereinigt"
      ],
      "execution_count": 0,
      "outputs": []
    },
    {
      "cell_type": "markdown",
      "metadata": {
        "id": "wdR-g8-coIRC",
        "colab_type": "text"
      },
      "source": [
        "### Ein einfaches lineares Modell - Abhängigkeit der Fahrten von der Nummer des Tages"
      ]
    },
    {
      "cell_type": "markdown",
      "metadata": {
        "id": "NX_KiWNO_GwR",
        "colab_type": "text"
      },
      "source": [
        "Mit den Hilfsfunktionen können wir vielleicht tiefere Einsichten erzielen, wenn wir erst mal eine Regression zwischen den Fahrten und der Tageslänge bilden.\n",
        "\n",
        "Den daraus resultierenden Trend können wir dann eliminieren (trendbereinigen) und uns angucken, was für ein \"Resttrend\" zwischen Fahrten und Tagen übrigbleibt. \n",
        "\n",
        "So sieht das Ganze dann aus:"
      ]
    },
    {
      "cell_type": "code",
      "metadata": {
        "id": "wvwUIFL20F8L",
        "colab_type": "code",
        "colab": {}
      },
      "source": [
        "# Zeigen der zusammengefassten Regressionsanalyse auf Basis der Tageslaenge\n",
        "Lineare_Regressionsanalyse(['Tageslaenge'])"
      ],
      "execution_count": 0,
      "outputs": []
    },
    {
      "cell_type": "markdown",
      "metadata": {
        "id": "j0y2IxexAVR2",
        "colab_type": "text"
      },
      "source": [
        "Aha! Die Tageslänge hat also wie erwartet und nun auch quantifiziert einen sehr hohen Einfluss auf die Anzahl der Fahrten! EIne Stunde mehr führt zu fast 300 mehr Radlern auf der Brücke (und das bei eher geringem Fehler...)\n",
        "\n",
        "Die untere grafische Übersicht zeigt die trendbereinigten Größen und die Zunahme der Fahrten mit dre Anzahl der Tage nach der Trendbereinigung, beträgt etwa 0,1  Personen jeden Tag (oder auf die mehr als 2.000 Tage im Gesamtzeitraum 200 Radler mehr am Tag). Und das bei kleinerem und nun vertretbaren Fehler.\n",
        "\n",
        "Allerdings ist auch die Streuung der \"bereingten Fahrten\" im Zeitverlauf nach wie vor groß.\n",
        "\n",
        "Mal gucken, ob der isoliderte Einfluss der Temperatur ist..."
      ]
    },
    {
      "cell_type": "markdown",
      "metadata": {
        "id": "JT04yhg1oIRN",
        "colab_type": "text"
      },
      "source": [
        "### *Do-It-Yourself: Abhängigkeit der Fahrten von der Temperatur*"
      ]
    },
    {
      "cell_type": "markdown",
      "metadata": {
        "id": "6E4vEhDOAS37",
        "colab_type": "text"
      },
      "source": [
        "Das ist nun Ihr Teil (und das sollte mit Kopieren und Adaptieren von oben einfach sein - spannder ist Ihre Interpretation):"
      ]
    },
    {
      "cell_type": "code",
      "metadata": {
        "scrolled": false,
        "id": "YpI24bUNoIRO",
        "colab_type": "code",
        "colab": {}
      },
      "source": [
        "# Zeigen der zusammengefassten Regressionsanalyse auf Basis der Temperatur\n",
        "\n",
        "# DO-IT-YOURSELF"
      ],
      "execution_count": 0,
      "outputs": []
    },
    {
      "cell_type": "markdown",
      "metadata": {
        "id": "HohsRO14oIRP",
        "colab_type": "text"
      },
      "source": [
        "### Ein multi-lineares Modell - Abhängigkeit der Fahrten von Tageslänge und Temperatur"
      ]
    },
    {
      "cell_type": "markdown",
      "metadata": {
        "id": "F1aeAP9UD1nF",
        "colab_type": "text"
      },
      "source": [
        "Unsere Funktion kann auch für mehrere Variablen genutzt werden:"
      ]
    },
    {
      "cell_type": "code",
      "metadata": {
        "scrolled": false,
        "id": "jOYcBK30oIRP",
        "colab_type": "code",
        "colab": {}
      },
      "source": [
        "# Zeigen der zusammengefassten Regressionsanalyse auf Basis der Tageslaenge und der Temperatur\n",
        "Lineare_Regressionsanalyse(['Tageslaenge', 'Temperatur'])"
      ],
      "execution_count": 0,
      "outputs": []
    },
    {
      "cell_type": "markdown",
      "metadata": {
        "id": "SgWa76QLD9Zh",
        "colab_type": "text"
      },
      "source": [
        "Da Tageslänge und Temperatur, wie bereits erörtert, untereinander recht korreliert sind, ändert sich das Gesamtergebnis nicht fundamental.\n",
        "\n",
        "Dennoch kann man sehen, dass niedrigere Temperaturen an langen Tagen einen negativeren Einfluss auf die Anzahl der Fahrten haben, als an kurzen. Man sieht das daran, dass die roten Regressionslinien leicht gekippt sind.\n",
        "\n",
        "Und logisch erscheint das auch: im Sommer friert man eben schneller und verliert leichter die Lust aufs Rad zu steigen (und umgekehr im Winter...)"
      ]
    },
    {
      "cell_type": "markdown",
      "metadata": {
        "id": "WC_qTui2oIRQ",
        "colab_type": "text"
      },
      "source": [
        "### *Do-It-Yourself: Abhängigkeit der Fahrten von Niederschlag und 'ist_Werktag'*"
      ]
    },
    {
      "cell_type": "markdown",
      "metadata": {
        "id": "e3YNK8gfE7Tv",
        "colab_type": "text"
      },
      "source": [
        "Eine etwas seltsamere Kombination ist bestimmt \"Niederschlag\" und \"ist_Werktag\".\n",
        "\n",
        "Probieren Sie es aus! Und versuchen Sie die Ergebnisse zu interpretieren... wenn möglich ;-)"
      ]
    },
    {
      "cell_type": "code",
      "metadata": {
        "scrolled": false,
        "id": "i8DHelZpoIRR",
        "colab_type": "code",
        "colab": {}
      },
      "source": [
        "# Zeigen der zusammengefassten Regressionsanalyse auf Basis des Niederschlags und von 'ist_Werktag'\n",
        "\n",
        "# DO-IT-YOURSELF"
      ],
      "execution_count": 0,
      "outputs": []
    },
    {
      "cell_type": "markdown",
      "metadata": {
        "id": "No3CdNiAoIRS",
        "colab_type": "text"
      },
      "source": [
        "### Das vollständige multi-lineare Modell"
      ]
    },
    {
      "cell_type": "markdown",
      "metadata": {
        "id": "A-pp_vbgHc6A",
        "colab_type": "text"
      },
      "source": [
        "Im vollständigen Modell untersuchen wir die Auswirkungen von Tageslänge, 'ist_Werktag', Temperatur und Niederschlag auf die Fahren, bereinigen den daraus resultierenden Trend, um nur noch isoliert (im Rahmen unserer Daten) die Auswirkungen der Tage auf die (bereinigten) Fahrten zu untersuchen;"
      ]
    },
    {
      "cell_type": "code",
      "metadata": {
        "scrolled": false,
        "id": "AwMwiUDfoIRS",
        "colab_type": "code",
        "colab": {}
      },
      "source": [
        "# Zeigen der zusammengefassten Regressionsanalyse auf Basis \n",
        "# der Tageslaenge, von 'ist_Werktag', der Temperatur und des Niederschlags\n",
        "Lineare_Regressionsanalyse(['Tageslaenge', 'ist_Werktag', 'Temperatur', 'Niederschlag'])"
      ],
      "execution_count": 0,
      "outputs": []
    },
    {
      "cell_type": "markdown",
      "metadata": {
        "id": "H2dJf1U8ILF3",
        "colab_type": "text"
      },
      "source": [
        "Alle Variablen (Tageslaenge, 'ist_Werktag', Temperatur und Niederschlag) haben eine klare Auswirkungen auf die Fahren. Die jeweiligen resultierenden Veränderungen/Steigungen sind deutlich höher als die Fehlerspannen.\n",
        "\n",
        "Im Rahmen unseres Modell können wir am Ende bestätigen, dass im Gesamtzeitraum die Fahrten zugenommen haben und dies nicht an unterschiedlichen Temperaturen, Tageslängen etc. liegt.\n",
        "\n",
        "Allerdings ist auch die bereinigte Entwicklung nach wie vor volatil und es könnte Sinn machen, über andere Einflussgrößen nachzudenken (was ist zum Beispiel mit Schneefall und Glätte, was passiert in Ferienzeiten und an Feiertagen, gab es bedeutende Großereignisse, wie sieht das Ganze für verschiedene Zeitabschnitte aus etc. etc.).\n",
        "\n",
        "Auch könnte es sein, dass ein lineares Modell nicht das Optimale ist. Z.B. sieht die Streuung der Fahrten mit dem Niederschlag immer noch etwas obskur aus.\n",
        "\n",
        "Bevor man hier einsteigt, sollte man sich allerdings fragen, ob die Aussage an dieser Stelle nicht schon ausreicht. Wenn es \"nur\" darum geht, zu objektivieren, ob der Fahrradverkehr im Aufwind ist, reicht unsere Analyse vermutlich. Wenn wir tagesgenau den Verkehr über die Brücke prognostizieren wollen, um beispielsweise zielgerichtete Werbeaktionen dort zu machen, eher nicht."
      ]
    },
    {
      "cell_type": "markdown",
      "metadata": {
        "id": "dgpGs1NIoIRU",
        "colab_type": "text"
      },
      "source": [
        "## Zusammenfassung"
      ]
    },
    {
      "cell_type": "markdown",
      "metadata": {
        "id": "ZxHCqkO3Fznr",
        "colab_type": "text"
      },
      "source": [
        "Wir haben nun den **gesamten Zyklus einer Data Science-Analyse durchlaufen**:\n",
        "\n",
        "- Wie üblich haben wir einige Zeit auf die Beschaffung und Vorbereitung der Daten verwenden müssen.  \n",
        "- Dann erst konnten wir die Daten explorieren und erste Hypothesen aufstellen, wobei uns grafische Veranschaulichungen sehr geholfen haben.\n",
        "- Auf Basis dieser Hypothesen haben wir dann einen Modell-Rahmen (lineare Regression) ausgewählt und unser Modell immer Weiter verfeinert\n",
        "- **Bis wir zum Schluss Jake van der Plas Aussage von 2014, dass der Fahrradverkehr in Seattle ansteigt bestätigen können!** - auch wenn es bestimmt noch einiges am Modell zu verbessern gäbe.\n",
        "\n",
        "**Wir hoffen, es hat Spaß gemacht!** Und Sie haben eine kleine Ahnung davon gewonnen, was ein Data Scientist so macht und machen kann."
      ]
    }
  ]
}